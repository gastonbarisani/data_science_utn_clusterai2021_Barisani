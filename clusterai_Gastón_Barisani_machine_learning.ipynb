{
 "cells": [
  {
   "cell_type": "code",
   "execution_count": 1,
   "metadata": {
    "executionInfo": {
     "elapsed": 1358,
     "status": "ok",
     "timestamp": 1637622184969,
     "user": {
      "displayName": "Gaston Barisani",
      "photoUrl": "https://lh3.googleusercontent.com/a-/AOh14GjPiAZd2ATBrZfu2xlPlnBc-Riz1L3YuKMUrQwpfw=s64",
      "userId": "12488591318735436684"
     },
     "user_tz": 180
    },
    "id": "PhwL1BHV5kgm"
   },
   "outputs": [],
   "source": [
    "#IMPORTO LIBRERIAS\n",
    "import pandas as pd\n",
    "import numpy as np\n",
    "import datetime\n",
    "import re\n",
    "#Graficos \n",
    "import matplotlib.pyplot as plt\n",
    "import seaborn as sns\n",
    "import plotly.graph_objects as go\n",
    "#Otros \n",
    "import warnings\n",
    "warnings.filterwarnings('ignore')"
   ]
  },
  {
   "cell_type": "code",
   "execution_count": 2,
   "metadata": {
    "colab": {
     "base_uri": "https://localhost:8080/"
    },
    "executionInfo": {
     "elapsed": 34516,
     "status": "ok",
     "timestamp": 1637622219473,
     "user": {
      "displayName": "Gaston Barisani",
      "photoUrl": "https://lh3.googleusercontent.com/a-/AOh14GjPiAZd2ATBrZfu2xlPlnBc-Riz1L3YuKMUrQwpfw=s64",
      "userId": "12488591318735436684"
     },
     "user_tz": 180
    },
    "id": "R5AdK3Xb5szk",
    "outputId": "61cc6af6-d129-4ee2-a409-f069ae5c8e12"
   },
   "outputs": [
    {
     "name": "stdout",
     "output_type": "stream",
     "text": [
      "Mounted at /content/gdrive\n"
     ]
    }
   ],
   "source": [
    "#IMPORTO ENTRONO DE TRABAJO\n",
    "from google.colab import drive\n",
    "drive.mount('/content/gdrive',force_remount=True)"
   ]
  },
  {
   "cell_type": "code",
   "execution_count": 3,
   "metadata": {
    "executionInfo": {
     "elapsed": 35,
     "status": "ok",
     "timestamp": 1637622219478,
     "user": {
      "displayName": "Gaston Barisani",
      "photoUrl": "https://lh3.googleusercontent.com/a-/AOh14GjPiAZd2ATBrZfu2xlPlnBc-Riz1L3YuKMUrQwpfw=s64",
      "userId": "12488591318735436684"
     },
     "user_tz": 180
    },
    "id": "F55UpNpX52WX"
   },
   "outputs": [],
   "source": [
    "#DEFINO RUTA DE TRABAJO\n",
    "root_path = \"/content/gdrive/MyDrive/UTN/5° año/Ciencia de datos/TP Cienca de datos/\"\n",
    "#root_path = \"/content/gdrive/drive/folders/1oJJYAqiOnK4f3m5Ym4Lll4hEgd_qaMnW/\"\n",
    "\n",
    "plot_path = root_path + \"figures/\""
   ]
  },
  {
   "cell_type": "markdown",
   "metadata": {
    "id": "-3Z1m786pa5d"
   },
   "source": [
    "# Datasets recorridos 2020 y 2021"
   ]
  },
  {
   "cell_type": "code",
   "execution_count": 4,
   "metadata": {
    "colab": {
     "base_uri": "https://localhost:8080/",
     "height": 226
    },
    "executionInfo": {
     "elapsed": 12516,
     "status": "ok",
     "timestamp": 1637622231966,
     "user": {
      "displayName": "Gaston Barisani",
      "photoUrl": "https://lh3.googleusercontent.com/a-/AOh14GjPiAZd2ATBrZfu2xlPlnBc-Riz1L3YuKMUrQwpfw=s64",
      "userId": "12488591318735436684"
     },
     "user_tz": 180
    },
    "id": "3j9UIhP867HQ",
    "outputId": "a4285e8e-4e98-4b54-d421-04c8640553f4"
   },
   "outputs": [
    {
     "data": {
      "text/html": [
       "<div>\n",
       "<style scoped>\n",
       "    .dataframe tbody tr th:only-of-type {\n",
       "        vertical-align: middle;\n",
       "    }\n",
       "\n",
       "    .dataframe tbody tr th {\n",
       "        vertical-align: top;\n",
       "    }\n",
       "\n",
       "    .dataframe thead th {\n",
       "        text-align: right;\n",
       "    }\n",
       "</style>\n",
       "<table border=\"1\" class=\"dataframe\">\n",
       "  <thead>\n",
       "    <tr style=\"text-align: right;\">\n",
       "      <th></th>\n",
       "      <th>duracion_recorrido</th>\n",
       "      <th>id_estacion_origen</th>\n",
       "      <th>fecha_origen_recorrido</th>\n",
       "      <th>nombre_estacion_origen</th>\n",
       "      <th>fecha_destino_recorrido</th>\n",
       "      <th>id_estacion_destino</th>\n",
       "      <th>nombre_estacion_destino</th>\n",
       "      <th>id_usuario</th>\n",
       "      <th>direccion_estacion_origen</th>\n",
       "      <th>long_estacion_origen</th>\n",
       "      <th>lat_estacion_origen</th>\n",
       "      <th>direccion_estacion_destino</th>\n",
       "      <th>long_estacion_destino</th>\n",
       "      <th>lat_estacion_destino</th>\n",
       "      <th>periodo</th>\n",
       "    </tr>\n",
       "  </thead>\n",
       "  <tbody>\n",
       "    <tr>\n",
       "      <th>0</th>\n",
       "      <td>882</td>\n",
       "      <td>116</td>\n",
       "      <td>2020-12-31 23:54:22</td>\n",
       "      <td>116 - HOSPITAL ALEMÁN</td>\n",
       "      <td>2021-01-01 00:09:04</td>\n",
       "      <td>214.0</td>\n",
       "      <td>142 - Armenia y Gorriti</td>\n",
       "      <td>666202</td>\n",
       "      <td>Beruti &amp; Ecuador</td>\n",
       "      <td>-58.402586</td>\n",
       "      <td>-34.592171</td>\n",
       "      <td>Armenia 1525 y Gorriti</td>\n",
       "      <td>-58.428972</td>\n",
       "      <td>-34.590541</td>\n",
       "      <td>2020</td>\n",
       "    </tr>\n",
       "    <tr>\n",
       "      <th>1</th>\n",
       "      <td>894</td>\n",
       "      <td>116</td>\n",
       "      <td>2020-12-29 12:39:18</td>\n",
       "      <td>116 - HOSPITAL ALEMÁN</td>\n",
       "      <td>2020-12-29 12:54:12</td>\n",
       "      <td>214.0</td>\n",
       "      <td>142 - Armenia y Gorriti</td>\n",
       "      <td>332689</td>\n",
       "      <td>Beruti &amp; Ecuador</td>\n",
       "      <td>-58.402586</td>\n",
       "      <td>-34.592171</td>\n",
       "      <td>Armenia 1525 y Gorriti</td>\n",
       "      <td>-58.428972</td>\n",
       "      <td>-34.590541</td>\n",
       "      <td>2020</td>\n",
       "    </tr>\n",
       "    <tr>\n",
       "      <th>2</th>\n",
       "      <td>1361</td>\n",
       "      <td>116</td>\n",
       "      <td>2020-12-21 21:21:38</td>\n",
       "      <td>116 - HOSPITAL ALEMÁN</td>\n",
       "      <td>2020-12-21 21:44:19</td>\n",
       "      <td>214.0</td>\n",
       "      <td>142 - Armenia y Gorriti</td>\n",
       "      <td>57949</td>\n",
       "      <td>Beruti &amp; Ecuador</td>\n",
       "      <td>-58.402586</td>\n",
       "      <td>-34.592171</td>\n",
       "      <td>Armenia 1525 y Gorriti</td>\n",
       "      <td>-58.428972</td>\n",
       "      <td>-34.590541</td>\n",
       "      <td>2020</td>\n",
       "    </tr>\n",
       "    <tr>\n",
       "      <th>3</th>\n",
       "      <td>1010</td>\n",
       "      <td>116</td>\n",
       "      <td>2020-12-20 21:58:19</td>\n",
       "      <td>116 - HOSPITAL ALEMÁN</td>\n",
       "      <td>2020-12-20 22:15:09</td>\n",
       "      <td>214.0</td>\n",
       "      <td>142 - Armenia y Gorriti</td>\n",
       "      <td>454846</td>\n",
       "      <td>Beruti &amp; Ecuador</td>\n",
       "      <td>-58.402586</td>\n",
       "      <td>-34.592171</td>\n",
       "      <td>Armenia 1525 y Gorriti</td>\n",
       "      <td>-58.428972</td>\n",
       "      <td>-34.590541</td>\n",
       "      <td>2020</td>\n",
       "    </tr>\n",
       "    <tr>\n",
       "      <th>4</th>\n",
       "      <td>1490</td>\n",
       "      <td>116</td>\n",
       "      <td>2020-12-20 13:32:53</td>\n",
       "      <td>116 - HOSPITAL ALEMÁN</td>\n",
       "      <td>2020-12-20 13:57:43</td>\n",
       "      <td>214.0</td>\n",
       "      <td>142 - Armenia y Gorriti</td>\n",
       "      <td>690975</td>\n",
       "      <td>Beruti &amp; Ecuador</td>\n",
       "      <td>-58.402586</td>\n",
       "      <td>-34.592171</td>\n",
       "      <td>Armenia 1525 y Gorriti</td>\n",
       "      <td>-58.428972</td>\n",
       "      <td>-34.590541</td>\n",
       "      <td>2020</td>\n",
       "    </tr>\n",
       "  </tbody>\n",
       "</table>\n",
       "</div>"
      ],
      "text/plain": [
       "   duracion_recorrido  id_estacion_origen  ... lat_estacion_destino periodo\n",
       "0                 882                 116  ...           -34.590541    2020\n",
       "1                 894                 116  ...           -34.590541    2020\n",
       "2                1361                 116  ...           -34.590541    2020\n",
       "3                1010                 116  ...           -34.590541    2020\n",
       "4                1490                 116  ...           -34.590541    2020\n",
       "\n",
       "[5 rows x 15 columns]"
      ]
     },
     "execution_count": 4,
     "metadata": {},
     "output_type": "execute_result"
    }
   ],
   "source": [
    "#IMPORTO EL DATASET 2020\n",
    "recorridos_2020 = pd.read_csv(root_path+\"recorridos-realizados-2020.csv\")\n",
    "recorridos_2020.head()"
   ]
  },
  {
   "cell_type": "code",
   "execution_count": 5,
   "metadata": {
    "executionInfo": {
     "elapsed": 10,
     "status": "ok",
     "timestamp": 1637622231966,
     "user": {
      "displayName": "Gaston Barisani",
      "photoUrl": "https://lh3.googleusercontent.com/a-/AOh14GjPiAZd2ATBrZfu2xlPlnBc-Riz1L3YuKMUrQwpfw=s64",
      "userId": "12488591318735436684"
     },
     "user_tz": 180
    },
    "id": "plewU1Wccxd0"
   },
   "outputs": [],
   "source": [
    "#from google.colab import drive\n",
    "#drive.mount('/content/drive')"
   ]
  },
  {
   "cell_type": "code",
   "execution_count": 6,
   "metadata": {
    "colab": {
     "base_uri": "https://localhost:8080/",
     "height": 469
    },
    "executionInfo": {
     "elapsed": 5950,
     "status": "ok",
     "timestamp": 1637622237909,
     "user": {
      "displayName": "Gaston Barisani",
      "photoUrl": "https://lh3.googleusercontent.com/a-/AOh14GjPiAZd2ATBrZfu2xlPlnBc-Riz1L3YuKMUrQwpfw=s64",
      "userId": "12488591318735436684"
     },
     "user_tz": 180
    },
    "id": "1wKmVti6Te1t",
    "outputId": "399a31a4-c72b-4f74-e384-2be808459763"
   },
   "outputs": [
    {
     "data": {
      "text/html": [
       "<div>\n",
       "<style scoped>\n",
       "    .dataframe tbody tr th:only-of-type {\n",
       "        vertical-align: middle;\n",
       "    }\n",
       "\n",
       "    .dataframe tbody tr th {\n",
       "        vertical-align: top;\n",
       "    }\n",
       "\n",
       "    .dataframe thead th {\n",
       "        text-align: right;\n",
       "    }\n",
       "</style>\n",
       "<table border=\"1\" class=\"dataframe\">\n",
       "  <thead>\n",
       "    <tr style=\"text-align: right;\">\n",
       "      <th></th>\n",
       "      <th>ID</th>\n",
       "      <th>Estado cerrado</th>\n",
       "      <th>Duración</th>\n",
       "      <th>Id de estación de inicio</th>\n",
       "      <th>Fecha de inicio</th>\n",
       "      <th>Nombre de estación de inicio</th>\n",
       "      <th>Fecha de fin</th>\n",
       "      <th>Id de estación de fin de viaje</th>\n",
       "      <th>Nombre de estación de fin de viaje</th>\n",
       "      <th>ID de ciclista</th>\n",
       "      <th>Tipo de ciclista</th>\n",
       "      <th>Modelo de bicicleta</th>\n",
       "      <th>Origen de viaje</th>\n",
       "    </tr>\n",
       "  </thead>\n",
       "  <tbody>\n",
       "    <tr>\n",
       "      <th>0</th>\n",
       "      <td>11204995</td>\n",
       "      <td>NORMAL</td>\n",
       "      <td>437</td>\n",
       "      <td>131</td>\n",
       "      <td>2021-06-02 16:14:35</td>\n",
       "      <td>131- HOSPITAL DE CLÍNICAS</td>\n",
       "      <td>2021-06-02 16:21:52</td>\n",
       "      <td>38.0</td>\n",
       "      <td>038 - Plaza Libertad</td>\n",
       "      <td>119795</td>\n",
       "      <td>MEMBER</td>\n",
       "      <td>ICONIC</td>\n",
       "      <td>CODE</td>\n",
       "    </tr>\n",
       "    <tr>\n",
       "      <th>1</th>\n",
       "      <td>11204938</td>\n",
       "      <td>NORMAL</td>\n",
       "      <td>406</td>\n",
       "      <td>387</td>\n",
       "      <td>2021-06-02 16:11:01</td>\n",
       "      <td>278 - Donato Alvarez</td>\n",
       "      <td>2021-06-02 16:17:47</td>\n",
       "      <td>262.0</td>\n",
       "      <td>349 - Plaza Saenz Peña</td>\n",
       "      <td>348428</td>\n",
       "      <td>MEMBER</td>\n",
       "      <td>ICONIC</td>\n",
       "      <td>CODE</td>\n",
       "    </tr>\n",
       "    <tr>\n",
       "      <th>2</th>\n",
       "      <td>11204928</td>\n",
       "      <td>NORMAL</td>\n",
       "      <td>299</td>\n",
       "      <td>232</td>\n",
       "      <td>2021-06-02 16:10:08</td>\n",
       "      <td>252 - Tamborini</td>\n",
       "      <td>2021-06-02 16:15:07</td>\n",
       "      <td>386.0</td>\n",
       "      <td>277 - Coghlan</td>\n",
       "      <td>690073</td>\n",
       "      <td>MEMBER</td>\n",
       "      <td>ICONIC</td>\n",
       "      <td>CODE</td>\n",
       "    </tr>\n",
       "    <tr>\n",
       "      <th>3</th>\n",
       "      <td>11204920</td>\n",
       "      <td>NORMAL</td>\n",
       "      <td>400</td>\n",
       "      <td>117</td>\n",
       "      <td>2021-06-02 16:09:34</td>\n",
       "      <td>117 - HUMBERTO 1°</td>\n",
       "      <td>2021-06-02 16:16:14</td>\n",
       "      <td>175.0</td>\n",
       "      <td>147 - Constitución</td>\n",
       "      <td>713938</td>\n",
       "      <td>MEMBER</td>\n",
       "      <td>ICONIC</td>\n",
       "      <td>CODE</td>\n",
       "    </tr>\n",
       "    <tr>\n",
       "      <th>4</th>\n",
       "      <td>11204919</td>\n",
       "      <td>NORMAL</td>\n",
       "      <td>591</td>\n",
       "      <td>212</td>\n",
       "      <td>2021-06-02 16:09:32</td>\n",
       "      <td>129 - Velasco</td>\n",
       "      <td>2021-06-02 16:19:23</td>\n",
       "      <td>158.0</td>\n",
       "      <td>158 - VILLARROEL</td>\n",
       "      <td>35926</td>\n",
       "      <td>MEMBER</td>\n",
       "      <td>ICONIC</td>\n",
       "      <td>CODE</td>\n",
       "    </tr>\n",
       "  </tbody>\n",
       "</table>\n",
       "</div>"
      ],
      "text/plain": [
       "         ID Estado cerrado  ...  Modelo de bicicleta  Origen de viaje\n",
       "0  11204995         NORMAL  ...               ICONIC             CODE\n",
       "1  11204938         NORMAL  ...               ICONIC             CODE\n",
       "2  11204928         NORMAL  ...               ICONIC             CODE\n",
       "3  11204920         NORMAL  ...               ICONIC             CODE\n",
       "4  11204919         NORMAL  ...               ICONIC             CODE\n",
       "\n",
       "[5 rows x 13 columns]"
      ]
     },
     "execution_count": 6,
     "metadata": {},
     "output_type": "execute_result"
    }
   ],
   "source": [
    "#IMPORTO EL DATASET 2021\n",
    "recorridos_2021 = pd.read_csv(root_path+\"recorridos-realizados-2021.csv\")\n",
    "recorridos_2021.head()"
   ]
  },
  {
   "cell_type": "code",
   "execution_count": 7,
   "metadata": {
    "executionInfo": {
     "elapsed": 28412,
     "status": "ok",
     "timestamp": 1637622266295,
     "user": {
      "displayName": "Gaston Barisani",
      "photoUrl": "https://lh3.googleusercontent.com/a-/AOh14GjPiAZd2ATBrZfu2xlPlnBc-Riz1L3YuKMUrQwpfw=s64",
      "userId": "12488591318735436684"
     },
     "user_tz": 180
    },
    "id": "ZHCkrQkIA6nw"
   },
   "outputs": [],
   "source": [
    "#ESTANDARIZO LOS NOMBRES DE LAS ESTACIONES PARA 2020\n",
    "recorridos_2020[\"nombre_estacion_origen\"].replace(to_replace = '\\d{3}\\s\\-\\s', value = '', regex = True, inplace = True)\n",
    "recorridos_2020[\"nombre_estacion_origen\"].replace(to_replace = '\\d{3}\\s\\-', value = '', regex = True, inplace = True)\n",
    "recorridos_2020[\"nombre_estacion_origen\"].replace(to_replace = '\\d{3}\\-', value = '', regex = True, inplace = True)\n",
    "recorridos_2020[\"nombre_estacion_origen\"].replace(to_replace = '\\d{3}\\-\\s', value = '', regex = True, inplace = True)\n",
    "\n",
    "recorridos_2020[\"nombre_estacion_destino\"].replace(to_replace = '\\d{3}\\s\\-\\s', value = '', regex = True, inplace = True)\n",
    "recorridos_2020[\"nombre_estacion_destino\"].replace(to_replace = '\\d{3}\\s\\-', value = '', regex = True, inplace = True)\n",
    "recorridos_2020[\"nombre_estacion_destino\"].replace(to_replace = '\\d{3}\\-', value = '', regex = True, inplace = True)\n",
    "recorridos_2020[\"nombre_estacion_destino\"].replace(to_replace = '\\d{3}\\-\\s', value = '', regex = True, inplace = True)"
   ]
  },
  {
   "cell_type": "code",
   "execution_count": 8,
   "metadata": {
    "executionInfo": {
     "elapsed": 18345,
     "status": "ok",
     "timestamp": 1637622284400,
     "user": {
      "displayName": "Gaston Barisani",
      "photoUrl": "https://lh3.googleusercontent.com/a-/AOh14GjPiAZd2ATBrZfu2xlPlnBc-Riz1L3YuKMUrQwpfw=s64",
      "userId": "12488591318735436684"
     },
     "user_tz": 180
    },
    "id": "DJU_mkAZDrk4"
   },
   "outputs": [],
   "source": [
    "#ESTANDARIZO LOS NOMBRES DE LAS ESTACIONES PARA 2021\n",
    "recorridos_2021[\"Nombre de estación de inicio\"].replace(to_replace = '\\d{3}\\s\\-\\s', value = '', regex = True, inplace = True)\n",
    "recorridos_2021[\"Nombre de estación de inicio\"].replace(to_replace = '\\d{3}\\s\\-', value = '', regex = True, inplace = True)\n",
    "recorridos_2021[\"Nombre de estación de inicio\"].replace(to_replace = '\\d{3}\\-', value = '', regex = True, inplace = True)\n",
    "recorridos_2021[\"Nombre de estación de inicio\"].replace(to_replace = '\\d{3}\\-\\s', value = '', regex = True, inplace = True)\n",
    "\n",
    "recorridos_2021[\"Nombre de estación de fin de viaje\"].replace(to_replace = '\\d{3}\\s\\-\\s', value = '', regex = True, inplace = True)\n",
    "recorridos_2021[\"Nombre de estación de fin de viaje\"].replace(to_replace = '\\d{3}\\s\\-', value = '', regex = True, inplace = True)\n",
    "recorridos_2021[\"Nombre de estación de fin de viaje\"].replace(to_replace = '\\d{3}\\-', value = '', regex = True, inplace = True)\n",
    "recorridos_2021[\"Nombre de estación de fin de viaje\"].replace(to_replace = '\\d{3}\\-\\s', value = '', regex = True, inplace = True)"
   ]
  },
  {
   "cell_type": "code",
   "execution_count": 9,
   "metadata": {
    "executionInfo": {
     "elapsed": 2684,
     "status": "ok",
     "timestamp": 1637622287464,
     "user": {
      "displayName": "Gaston Barisani",
      "photoUrl": "https://lh3.googleusercontent.com/a-/AOh14GjPiAZd2ATBrZfu2xlPlnBc-Riz1L3YuKMUrQwpfw=s64",
      "userId": "12488591318735436684"
     },
     "user_tz": 180
    },
    "id": "pn3WYy0lK7l1"
   },
   "outputs": [],
   "source": [
    "#PONGO TODOS LOS NOMBRES DE ESTACIONES EN MAYÚSCULAS \n",
    "recorridos_2020[\"nombre_estacion_origen\"] = recorridos_2020[\"nombre_estacion_origen\"].str.upper()\n",
    "recorridos_2020[\"nombre_estacion_destino\"] = recorridos_2020[\"nombre_estacion_destino\"].str.upper()\n",
    "\n",
    "recorridos_2021[\"Nombre de estación de inicio\"] = recorridos_2021[\"Nombre de estación de inicio\"].str.upper()\n",
    "recorridos_2021[\"Nombre de estación de fin de viaje\"] = recorridos_2021[\"Nombre de estación de fin de viaje\"].str.upper()"
   ]
  },
  {
   "cell_type": "code",
   "execution_count": 10,
   "metadata": {
    "executionInfo": {
     "elapsed": 2288,
     "status": "ok",
     "timestamp": 1637622289731,
     "user": {
      "displayName": "Gaston Barisani",
      "photoUrl": "https://lh3.googleusercontent.com/a-/AOh14GjPiAZd2ATBrZfu2xlPlnBc-Riz1L3YuKMUrQwpfw=s64",
      "userId": "12488591318735436684"
     },
     "user_tz": 180
    },
    "id": "QRWcyBkJO2wY"
   },
   "outputs": [],
   "source": [
    "#ELIMINO ESPACIOS ANTES Y DESPUES DEL NOMBRE DE ESTACIÓN\n",
    "recorridos_2020[\"nombre_estacion_origen\"] = recorridos_2020[\"nombre_estacion_origen\"].str.strip()\n",
    "recorridos_2020[\"nombre_estacion_destino\"] = recorridos_2020[\"nombre_estacion_destino\"].str.strip()\n",
    "\n",
    "recorridos_2021[\"Nombre de estación de inicio\"] = recorridos_2021[\"Nombre de estación de inicio\"].str.strip()\n",
    "recorridos_2021[\"Nombre de estación de fin de viaje\"] = recorridos_2021[\"Nombre de estación de fin de viaje\"].str.strip()"
   ]
  },
  {
   "cell_type": "code",
   "execution_count": 11,
   "metadata": {
    "executionInfo": {
     "elapsed": 453,
     "status": "ok",
     "timestamp": 1637622290166,
     "user": {
      "displayName": "Gaston Barisani",
      "photoUrl": "https://lh3.googleusercontent.com/a-/AOh14GjPiAZd2ATBrZfu2xlPlnBc-Riz1L3YuKMUrQwpfw=s64",
      "userId": "12488591318735436684"
     },
     "user_tz": 180
    },
    "id": "AzbiVioT0WcA"
   },
   "outputs": [],
   "source": [
    "#BORRO COLUMNAS INNECESARIAS\n",
    "recorridos_2020 = recorridos_2020.drop([\"id_estacion_origen\", \"id_estacion_destino\", \"direccion_estacion_origen\", \"long_estacion_origen\", \"lat_estacion_origen\", \"direccion_estacion_destino\", \"long_estacion_destino\", \"lat_estacion_destino\", \"periodo\"], axis=1)\n",
    "recorridos_2021 = recorridos_2021.drop([\"ID\", \"Id de estación de inicio\", \"Id de estación de fin de viaje\", \"Tipo de ciclista\", \"Modelo de bicicleta\", \"Origen de viaje\", \"Estado cerrado\"], axis=1)"
   ]
  },
  {
   "cell_type": "code",
   "execution_count": 12,
   "metadata": {
    "colab": {
     "base_uri": "https://localhost:8080/",
     "height": 226
    },
    "executionInfo": {
     "elapsed": 83,
     "status": "ok",
     "timestamp": 1637622290175,
     "user": {
      "displayName": "Gaston Barisani",
      "photoUrl": "https://lh3.googleusercontent.com/a-/AOh14GjPiAZd2ATBrZfu2xlPlnBc-Riz1L3YuKMUrQwpfw=s64",
      "userId": "12488591318735436684"
     },
     "user_tz": 180
    },
    "id": "Ky1mfxP-qSVI",
    "outputId": "35250793-7009-4e4f-ccd9-7726a6ecd4a2"
   },
   "outputs": [
    {
     "data": {
      "text/html": [
       "<div>\n",
       "<style scoped>\n",
       "    .dataframe tbody tr th:only-of-type {\n",
       "        vertical-align: middle;\n",
       "    }\n",
       "\n",
       "    .dataframe tbody tr th {\n",
       "        vertical-align: top;\n",
       "    }\n",
       "\n",
       "    .dataframe thead th {\n",
       "        text-align: right;\n",
       "    }\n",
       "</style>\n",
       "<table border=\"1\" class=\"dataframe\">\n",
       "  <thead>\n",
       "    <tr style=\"text-align: right;\">\n",
       "      <th></th>\n",
       "      <th>duracion_recorrido</th>\n",
       "      <th>fecha_origen_recorrido</th>\n",
       "      <th>nombre_estacion_origen</th>\n",
       "      <th>fecha_destino_recorrido</th>\n",
       "      <th>nombre_estacion_destino</th>\n",
       "      <th>id_usuario</th>\n",
       "    </tr>\n",
       "  </thead>\n",
       "  <tbody>\n",
       "    <tr>\n",
       "      <th>0</th>\n",
       "      <td>882</td>\n",
       "      <td>2020-12-31 23:54:22</td>\n",
       "      <td>HOSPITAL ALEMÁN</td>\n",
       "      <td>2021-01-01 00:09:04</td>\n",
       "      <td>ARMENIA Y GORRITI</td>\n",
       "      <td>666202</td>\n",
       "    </tr>\n",
       "    <tr>\n",
       "      <th>1</th>\n",
       "      <td>894</td>\n",
       "      <td>2020-12-29 12:39:18</td>\n",
       "      <td>HOSPITAL ALEMÁN</td>\n",
       "      <td>2020-12-29 12:54:12</td>\n",
       "      <td>ARMENIA Y GORRITI</td>\n",
       "      <td>332689</td>\n",
       "    </tr>\n",
       "    <tr>\n",
       "      <th>2</th>\n",
       "      <td>1361</td>\n",
       "      <td>2020-12-21 21:21:38</td>\n",
       "      <td>HOSPITAL ALEMÁN</td>\n",
       "      <td>2020-12-21 21:44:19</td>\n",
       "      <td>ARMENIA Y GORRITI</td>\n",
       "      <td>57949</td>\n",
       "    </tr>\n",
       "    <tr>\n",
       "      <th>3</th>\n",
       "      <td>1010</td>\n",
       "      <td>2020-12-20 21:58:19</td>\n",
       "      <td>HOSPITAL ALEMÁN</td>\n",
       "      <td>2020-12-20 22:15:09</td>\n",
       "      <td>ARMENIA Y GORRITI</td>\n",
       "      <td>454846</td>\n",
       "    </tr>\n",
       "    <tr>\n",
       "      <th>4</th>\n",
       "      <td>1490</td>\n",
       "      <td>2020-12-20 13:32:53</td>\n",
       "      <td>HOSPITAL ALEMÁN</td>\n",
       "      <td>2020-12-20 13:57:43</td>\n",
       "      <td>ARMENIA Y GORRITI</td>\n",
       "      <td>690975</td>\n",
       "    </tr>\n",
       "  </tbody>\n",
       "</table>\n",
       "</div>"
      ],
      "text/plain": [
       "   duracion_recorrido  ... id_usuario\n",
       "0                 882  ...     666202\n",
       "1                 894  ...     332689\n",
       "2                1361  ...      57949\n",
       "3                1010  ...     454846\n",
       "4                1490  ...     690975\n",
       "\n",
       "[5 rows x 6 columns]"
      ]
     },
     "execution_count": 12,
     "metadata": {},
     "output_type": "execute_result"
    }
   ],
   "source": [
    "recorridos_2020.head()"
   ]
  },
  {
   "cell_type": "code",
   "execution_count": 13,
   "metadata": {
    "colab": {
     "base_uri": "https://localhost:8080/",
     "height": 310
    },
    "executionInfo": {
     "elapsed": 81,
     "status": "ok",
     "timestamp": 1637622290177,
     "user": {
      "displayName": "Gaston Barisani",
      "photoUrl": "https://lh3.googleusercontent.com/a-/AOh14GjPiAZd2ATBrZfu2xlPlnBc-Riz1L3YuKMUrQwpfw=s64",
      "userId": "12488591318735436684"
     },
     "user_tz": 180
    },
    "id": "68UrpUB3sNCw",
    "outputId": "dc39601b-0801-4b4e-ffe6-00a60c3e0bfd"
   },
   "outputs": [
    {
     "data": {
      "text/html": [
       "<div>\n",
       "<style scoped>\n",
       "    .dataframe tbody tr th:only-of-type {\n",
       "        vertical-align: middle;\n",
       "    }\n",
       "\n",
       "    .dataframe tbody tr th {\n",
       "        vertical-align: top;\n",
       "    }\n",
       "\n",
       "    .dataframe thead th {\n",
       "        text-align: right;\n",
       "    }\n",
       "</style>\n",
       "<table border=\"1\" class=\"dataframe\">\n",
       "  <thead>\n",
       "    <tr style=\"text-align: right;\">\n",
       "      <th></th>\n",
       "      <th>Duración</th>\n",
       "      <th>Fecha de inicio</th>\n",
       "      <th>Nombre de estación de inicio</th>\n",
       "      <th>Fecha de fin</th>\n",
       "      <th>Nombre de estación de fin de viaje</th>\n",
       "      <th>ID de ciclista</th>\n",
       "    </tr>\n",
       "  </thead>\n",
       "  <tbody>\n",
       "    <tr>\n",
       "      <th>0</th>\n",
       "      <td>437</td>\n",
       "      <td>2021-06-02 16:14:35</td>\n",
       "      <td>HOSPITAL DE CLÍNICAS</td>\n",
       "      <td>2021-06-02 16:21:52</td>\n",
       "      <td>PLAZA LIBERTAD</td>\n",
       "      <td>119795</td>\n",
       "    </tr>\n",
       "    <tr>\n",
       "      <th>1</th>\n",
       "      <td>406</td>\n",
       "      <td>2021-06-02 16:11:01</td>\n",
       "      <td>DONATO ALVAREZ</td>\n",
       "      <td>2021-06-02 16:17:47</td>\n",
       "      <td>PLAZA SAENZ PEÑA</td>\n",
       "      <td>348428</td>\n",
       "    </tr>\n",
       "    <tr>\n",
       "      <th>2</th>\n",
       "      <td>299</td>\n",
       "      <td>2021-06-02 16:10:08</td>\n",
       "      <td>TAMBORINI</td>\n",
       "      <td>2021-06-02 16:15:07</td>\n",
       "      <td>COGHLAN</td>\n",
       "      <td>690073</td>\n",
       "    </tr>\n",
       "    <tr>\n",
       "      <th>3</th>\n",
       "      <td>400</td>\n",
       "      <td>2021-06-02 16:09:34</td>\n",
       "      <td>HUMBERTO 1°</td>\n",
       "      <td>2021-06-02 16:16:14</td>\n",
       "      <td>CONSTITUCIÓN</td>\n",
       "      <td>713938</td>\n",
       "    </tr>\n",
       "    <tr>\n",
       "      <th>4</th>\n",
       "      <td>591</td>\n",
       "      <td>2021-06-02 16:09:32</td>\n",
       "      <td>VELASCO</td>\n",
       "      <td>2021-06-02 16:19:23</td>\n",
       "      <td>VILLARROEL</td>\n",
       "      <td>35926</td>\n",
       "    </tr>\n",
       "  </tbody>\n",
       "</table>\n",
       "</div>"
      ],
      "text/plain": [
       "   Duración  ... ID de ciclista\n",
       "0       437  ...         119795\n",
       "1       406  ...         348428\n",
       "2       299  ...         690073\n",
       "3       400  ...         713938\n",
       "4       591  ...          35926\n",
       "\n",
       "[5 rows x 6 columns]"
      ]
     },
     "execution_count": 13,
     "metadata": {},
     "output_type": "execute_result"
    }
   ],
   "source": [
    "recorridos_2021.head()"
   ]
  },
  {
   "cell_type": "code",
   "execution_count": 14,
   "metadata": {
    "executionInfo": {
     "elapsed": 501,
     "status": "ok",
     "timestamp": 1637622290602,
     "user": {
      "displayName": "Gaston Barisani",
      "photoUrl": "https://lh3.googleusercontent.com/a-/AOh14GjPiAZd2ATBrZfu2xlPlnBc-Riz1L3YuKMUrQwpfw=s64",
      "userId": "12488591318735436684"
     },
     "user_tz": 180
    },
    "id": "o2txT1B-WFXO"
   },
   "outputs": [],
   "source": [
    "#RENOMBRO COLUMNAS\n",
    "recorridos_2020 = recorridos_2020.rename(columns={\"duracion_recorrido\": \"Duración\", \"fecha_origen_recorrido\": \"Fecha de inicio\", 'nombre_estacion_origen': 'Estación de inicio', \"fecha_destino_recorrido\": \"Fecha de fin\", \"nombre_estacion_destino\": \"Estación de fin\", \"id_usuario\": \"ID ciclista\"})\n",
    "recorridos_2021 = recorridos_2021.rename(columns={'Nombre de estación de inicio': 'Estación de inicio', \"Nombre de estación de fin de viaje\": \"Estación de fin\", \"ID de ciclista\": \"ID ciclista\"})"
   ]
  },
  {
   "cell_type": "code",
   "execution_count": 15,
   "metadata": {
    "colab": {
     "base_uri": "https://localhost:8080/"
    },
    "executionInfo": {
     "elapsed": 134,
     "status": "ok",
     "timestamp": 1637622290604,
     "user": {
      "displayName": "Gaston Barisani",
      "photoUrl": "https://lh3.googleusercontent.com/a-/AOh14GjPiAZd2ATBrZfu2xlPlnBc-Riz1L3YuKMUrQwpfw=s64",
      "userId": "12488591318735436684"
     },
     "user_tz": 180
    },
    "id": "wId4pLiYtg6w",
    "outputId": "01802997-9bbc-4145-b8a8-6e73fa914fd4"
   },
   "outputs": [
    {
     "name": "stdout",
     "output_type": "stream",
     "text": [
      "Index(['Duración', 'Fecha de inicio', 'Estación de inicio', 'Fecha de fin',\n",
      "       'Estación de fin', 'ID ciclista'],\n",
      "      dtype='object')\n",
      "Index(['Duración', 'Fecha de inicio', 'Estación de inicio', 'Fecha de fin',\n",
      "       'Estación de fin', 'ID ciclista'],\n",
      "      dtype='object')\n"
     ]
    }
   ],
   "source": [
    "print(recorridos_2020.columns)\n",
    "print(recorridos_2021.columns)"
   ]
  },
  {
   "cell_type": "code",
   "execution_count": 16,
   "metadata": {
    "colab": {
     "base_uri": "https://localhost:8080/"
    },
    "executionInfo": {
     "elapsed": 504,
     "status": "ok",
     "timestamp": 1637622291095,
     "user": {
      "displayName": "Gaston Barisani",
      "photoUrl": "https://lh3.googleusercontent.com/a-/AOh14GjPiAZd2ATBrZfu2xlPlnBc-Riz1L3YuKMUrQwpfw=s64",
      "userId": "12488591318735436684"
     },
     "user_tz": 180
    },
    "id": "r2Bl2j2zA6tQ",
    "outputId": "cfc3d799-b7ed-41df-c47f-c213d0b59e4a"
   },
   "outputs": [
    {
     "name": "stdout",
     "output_type": "stream",
     "text": [
      "201\n",
      "233\n"
     ]
    }
   ],
   "source": [
    "print(len(recorridos_2020[\"Estación de inicio\"].unique()))\n",
    "print(len(recorridos_2021[\"Estación de inicio\"].unique()))"
   ]
  },
  {
   "cell_type": "code",
   "execution_count": 17,
   "metadata": {
    "colab": {
     "base_uri": "https://localhost:8080/"
    },
    "executionInfo": {
     "elapsed": 113,
     "status": "ok",
     "timestamp": 1637622291104,
     "user": {
      "displayName": "Gaston Barisani",
      "photoUrl": "https://lh3.googleusercontent.com/a-/AOh14GjPiAZd2ATBrZfu2xlPlnBc-Riz1L3YuKMUrQwpfw=s64",
      "userId": "12488591318735436684"
     },
     "user_tz": 180
    },
    "id": "WUV9fgcougeU",
    "outputId": "67c4a4b9-8635-4d81-e3a0-6aa313c47126"
   },
   "outputs": [
    {
     "name": "stdout",
     "output_type": "stream",
     "text": [
      "(2002945, 6)\n",
      "(1328726, 6)\n"
     ]
    }
   ],
   "source": [
    "print(np.shape(recorridos_2020))\n",
    "print(np.shape(recorridos_2021))"
   ]
  },
  {
   "cell_type": "code",
   "execution_count": 18,
   "metadata": {
    "executionInfo": {
     "elapsed": 75,
     "status": "ok",
     "timestamp": 1637622291108,
     "user": {
      "displayName": "Gaston Barisani",
      "photoUrl": "https://lh3.googleusercontent.com/a-/AOh14GjPiAZd2ATBrZfu2xlPlnBc-Riz1L3YuKMUrQwpfw=s64",
      "userId": "12488591318735436684"
     },
     "user_tz": 180
    },
    "id": "nzvN40IouPHQ"
   },
   "outputs": [],
   "source": [
    "#CONCATENO LOS DATASETS\n",
    "recorridos_2020_2021 = pd.concat([recorridos_2020, recorridos_2021], axis=0)"
   ]
  },
  {
   "cell_type": "code",
   "execution_count": 19,
   "metadata": {
    "executionInfo": {
     "elapsed": 81,
     "status": "ok",
     "timestamp": 1637622291117,
     "user": {
      "displayName": "Gaston Barisani",
      "photoUrl": "https://lh3.googleusercontent.com/a-/AOh14GjPiAZd2ATBrZfu2xlPlnBc-Riz1L3YuKMUrQwpfw=s64",
      "userId": "12488591318735436684"
     },
     "user_tz": 180
    },
    "id": "qE7IrNfSdRoL"
   },
   "outputs": [],
   "source": [
    "#RESETEO INDICES\n",
    "recorridos_2020_2021.reset_index(inplace=True, drop=True)"
   ]
  },
  {
   "cell_type": "code",
   "execution_count": 20,
   "metadata": {
    "colab": {
     "base_uri": "https://localhost:8080/"
    },
    "executionInfo": {
     "elapsed": 81,
     "status": "ok",
     "timestamp": 1637622291120,
     "user": {
      "displayName": "Gaston Barisani",
      "photoUrl": "https://lh3.googleusercontent.com/a-/AOh14GjPiAZd2ATBrZfu2xlPlnBc-Riz1L3YuKMUrQwpfw=s64",
      "userId": "12488591318735436684"
     },
     "user_tz": 180
    },
    "id": "0Df1fMccuPXH",
    "outputId": "72ed3f71-aff4-4535-941b-c0eb52e0e5b9"
   },
   "outputs": [
    {
     "name": "stdout",
     "output_type": "stream",
     "text": [
      "(3331671, 6)\n"
     ]
    }
   ],
   "source": [
    "print(np.shape(recorridos_2020_2021))"
   ]
  },
  {
   "cell_type": "code",
   "execution_count": 21,
   "metadata": {
    "executionInfo": {
     "elapsed": 74,
     "status": "ok",
     "timestamp": 1637622291125,
     "user": {
      "displayName": "Gaston Barisani",
      "photoUrl": "https://lh3.googleusercontent.com/a-/AOh14GjPiAZd2ATBrZfu2xlPlnBc-Riz1L3YuKMUrQwpfw=s64",
      "userId": "12488591318735436684"
     },
     "user_tz": 180
    },
    "id": "FhW0kpF_AlqS"
   },
   "outputs": [],
   "source": [
    "#PASO COLUMNA DURACION A MINUTOS Y REDONDEO A 1 DECIMAL\n",
    "recorridos_2020_2021[\"Duración\"] = recorridos_2020_2021[\"Duración\"]/60\n",
    "recorridos_2020_2021[\"Duración\"] = recorridos_2020_2021[\"Duración\"].round(1)"
   ]
  },
  {
   "cell_type": "code",
   "execution_count": 22,
   "metadata": {
    "colab": {
     "base_uri": "https://localhost:8080/",
     "height": 206
    },
    "executionInfo": {
     "elapsed": 74,
     "status": "ok",
     "timestamp": 1637622291127,
     "user": {
      "displayName": "Gaston Barisani",
      "photoUrl": "https://lh3.googleusercontent.com/a-/AOh14GjPiAZd2ATBrZfu2xlPlnBc-Riz1L3YuKMUrQwpfw=s64",
      "userId": "12488591318735436684"
     },
     "user_tz": 180
    },
    "id": "D82b2V2jIq-x",
    "outputId": "6804c231-fd40-40f8-b301-a63f38d67602"
   },
   "outputs": [
    {
     "data": {
      "text/html": [
       "<div>\n",
       "<style scoped>\n",
       "    .dataframe tbody tr th:only-of-type {\n",
       "        vertical-align: middle;\n",
       "    }\n",
       "\n",
       "    .dataframe tbody tr th {\n",
       "        vertical-align: top;\n",
       "    }\n",
       "\n",
       "    .dataframe thead th {\n",
       "        text-align: right;\n",
       "    }\n",
       "</style>\n",
       "<table border=\"1\" class=\"dataframe\">\n",
       "  <thead>\n",
       "    <tr style=\"text-align: right;\">\n",
       "      <th></th>\n",
       "      <th>Duración</th>\n",
       "      <th>Fecha de inicio</th>\n",
       "      <th>Estación de inicio</th>\n",
       "      <th>Fecha de fin</th>\n",
       "      <th>Estación de fin</th>\n",
       "      <th>ID ciclista</th>\n",
       "    </tr>\n",
       "  </thead>\n",
       "  <tbody>\n",
       "    <tr>\n",
       "      <th>0</th>\n",
       "      <td>14.7</td>\n",
       "      <td>2020-12-31 23:54:22</td>\n",
       "      <td>HOSPITAL ALEMÁN</td>\n",
       "      <td>2021-01-01 00:09:04</td>\n",
       "      <td>ARMENIA Y GORRITI</td>\n",
       "      <td>666202</td>\n",
       "    </tr>\n",
       "    <tr>\n",
       "      <th>1</th>\n",
       "      <td>14.9</td>\n",
       "      <td>2020-12-29 12:39:18</td>\n",
       "      <td>HOSPITAL ALEMÁN</td>\n",
       "      <td>2020-12-29 12:54:12</td>\n",
       "      <td>ARMENIA Y GORRITI</td>\n",
       "      <td>332689</td>\n",
       "    </tr>\n",
       "    <tr>\n",
       "      <th>2</th>\n",
       "      <td>22.7</td>\n",
       "      <td>2020-12-21 21:21:38</td>\n",
       "      <td>HOSPITAL ALEMÁN</td>\n",
       "      <td>2020-12-21 21:44:19</td>\n",
       "      <td>ARMENIA Y GORRITI</td>\n",
       "      <td>57949</td>\n",
       "    </tr>\n",
       "    <tr>\n",
       "      <th>3</th>\n",
       "      <td>16.8</td>\n",
       "      <td>2020-12-20 21:58:19</td>\n",
       "      <td>HOSPITAL ALEMÁN</td>\n",
       "      <td>2020-12-20 22:15:09</td>\n",
       "      <td>ARMENIA Y GORRITI</td>\n",
       "      <td>454846</td>\n",
       "    </tr>\n",
       "    <tr>\n",
       "      <th>4</th>\n",
       "      <td>24.8</td>\n",
       "      <td>2020-12-20 13:32:53</td>\n",
       "      <td>HOSPITAL ALEMÁN</td>\n",
       "      <td>2020-12-20 13:57:43</td>\n",
       "      <td>ARMENIA Y GORRITI</td>\n",
       "      <td>690975</td>\n",
       "    </tr>\n",
       "  </tbody>\n",
       "</table>\n",
       "</div>"
      ],
      "text/plain": [
       "   Duración      Fecha de inicio  ...    Estación de fin ID ciclista\n",
       "0      14.7  2020-12-31 23:54:22  ...  ARMENIA Y GORRITI      666202\n",
       "1      14.9  2020-12-29 12:39:18  ...  ARMENIA Y GORRITI      332689\n",
       "2      22.7  2020-12-21 21:21:38  ...  ARMENIA Y GORRITI       57949\n",
       "3      16.8  2020-12-20 21:58:19  ...  ARMENIA Y GORRITI      454846\n",
       "4      24.8  2020-12-20 13:32:53  ...  ARMENIA Y GORRITI      690975\n",
       "\n",
       "[5 rows x 6 columns]"
      ]
     },
     "execution_count": 22,
     "metadata": {},
     "output_type": "execute_result"
    }
   ],
   "source": [
    "recorridos_2020_2021.head()"
   ]
  },
  {
   "cell_type": "code",
   "execution_count": 23,
   "metadata": {
    "colab": {
     "base_uri": "https://localhost:8080/"
    },
    "executionInfo": {
     "elapsed": 722,
     "status": "ok",
     "timestamp": 1637622291790,
     "user": {
      "displayName": "Gaston Barisani",
      "photoUrl": "https://lh3.googleusercontent.com/a-/AOh14GjPiAZd2ATBrZfu2xlPlnBc-Riz1L3YuKMUrQwpfw=s64",
      "userId": "12488591318735436684"
     },
     "user_tz": 180
    },
    "id": "xpV-fUm1wRe7",
    "outputId": "268c9524-85ea-40ec-c7d8-3a865f1e4686"
   },
   "outputs": [
    {
     "data": {
      "text/plain": [
       "Duración              0\n",
       "Fecha de inicio       0\n",
       "Estación de inicio    0\n",
       "Fecha de fin          0\n",
       "Estación de fin       3\n",
       "ID ciclista           0\n",
       "dtype: int64"
      ]
     },
     "execution_count": 23,
     "metadata": {},
     "output_type": "execute_result"
    }
   ],
   "source": [
    "#CHEQUEO VALORES NULOS\n",
    "recorridos_2020_2021.isnull().sum()"
   ]
  },
  {
   "cell_type": "code",
   "execution_count": 24,
   "metadata": {
    "executionInfo": {
     "elapsed": 957,
     "status": "ok",
     "timestamp": 1637622292736,
     "user": {
      "displayName": "Gaston Barisani",
      "photoUrl": "https://lh3.googleusercontent.com/a-/AOh14GjPiAZd2ATBrZfu2xlPlnBc-Riz1L3YuKMUrQwpfw=s64",
      "userId": "12488591318735436684"
     },
     "user_tz": 180
    },
    "id": "5BDXaVuTm4w3"
   },
   "outputs": [],
   "source": [
    "#ELIMINO NANS YA QUE HAY SOLAMENTE 3\n",
    "recorridos_2020_2021 = recorridos_2020_2021.dropna(axis = 0)"
   ]
  },
  {
   "cell_type": "code",
   "execution_count": 25,
   "metadata": {
    "colab": {
     "base_uri": "https://localhost:8080/"
    },
    "executionInfo": {
     "elapsed": 12,
     "status": "ok",
     "timestamp": 1637622292738,
     "user": {
      "displayName": "Gaston Barisani",
      "photoUrl": "https://lh3.googleusercontent.com/a-/AOh14GjPiAZd2ATBrZfu2xlPlnBc-Riz1L3YuKMUrQwpfw=s64",
      "userId": "12488591318735436684"
     },
     "user_tz": 180
    },
    "id": "xMsInIkcw5Hc",
    "outputId": "d506c1ba-ec2a-497c-b99b-460977f2784d"
   },
   "outputs": [
    {
     "data": {
      "text/plain": [
       "(3331668, 6)"
      ]
     },
     "execution_count": 25,
     "metadata": {},
     "output_type": "execute_result"
    }
   ],
   "source": [
    "np.shape(recorridos_2020_2021)"
   ]
  },
  {
   "cell_type": "code",
   "execution_count": 26,
   "metadata": {
    "executionInfo": {
     "elapsed": 2582,
     "status": "ok",
     "timestamp": 1637622295315,
     "user": {
      "displayName": "Gaston Barisani",
      "photoUrl": "https://lh3.googleusercontent.com/a-/AOh14GjPiAZd2ATBrZfu2xlPlnBc-Riz1L3YuKMUrQwpfw=s64",
      "userId": "12488591318735436684"
     },
     "user_tz": 180
    },
    "id": "keqSgmGFw_aq"
   },
   "outputs": [],
   "source": [
    "#PASO A DATE TIME Y OBTENGO COLUMNA CON MES, AÑO Y HORA\n",
    "recorridos_2020_2021['Fecha de inicio']= pd.to_datetime(recorridos_2020_2021['Fecha de inicio'])\n",
    "recorridos_2020_2021[\"Año\"] = recorridos_2020_2021['Fecha de inicio'].dt.year\n",
    "recorridos_2020_2021[\"Mes\"] = recorridos_2020_2021['Fecha de inicio'].dt.month\n",
    "recorridos_2020_2021[\"Día del mes\"] = recorridos_2020_2021['Fecha de inicio'].dt.day\n",
    "recorridos_2020_2021[\"Día de la semana\"] = recorridos_2020_2021['Fecha de inicio'].dt.dayofweek\n",
    "recorridos_2020_2021[\"Hora\"] = recorridos_2020_2021['Fecha de inicio'].dt.hour"
   ]
  },
  {
   "cell_type": "code",
   "execution_count": 27,
   "metadata": {
    "executionInfo": {
     "elapsed": 1976,
     "status": "ok",
     "timestamp": 1637622297278,
     "user": {
      "displayName": "Gaston Barisani",
      "photoUrl": "https://lh3.googleusercontent.com/a-/AOh14GjPiAZd2ATBrZfu2xlPlnBc-Riz1L3YuKMUrQwpfw=s64",
      "userId": "12488591318735436684"
     },
     "user_tz": 180
    },
    "id": "YVqn1m3yQ-i-"
   },
   "outputs": [],
   "source": [
    "#OBTENGO COLUMA RECORRIDO, CON ESTACION DE INICIO Y FIN\n",
    "recorridos_2020_2021[\"Recorrido\"] = recorridos_2020_2021['Estación de inicio'] + \" \" + \"-\" + \" \" + recorridos_2020_2021['Estación de fin']"
   ]
  },
  {
   "cell_type": "code",
   "execution_count": 28,
   "metadata": {
    "colab": {
     "base_uri": "https://localhost:8080/",
     "height": 501
    },
    "executionInfo": {
     "elapsed": 46,
     "status": "ok",
     "timestamp": 1637622297290,
     "user": {
      "displayName": "Gaston Barisani",
      "photoUrl": "https://lh3.googleusercontent.com/a-/AOh14GjPiAZd2ATBrZfu2xlPlnBc-Riz1L3YuKMUrQwpfw=s64",
      "userId": "12488591318735436684"
     },
     "user_tz": 180
    },
    "id": "ImfdM52HTWMx",
    "outputId": "3a1476a7-17be-4705-8c06-17aa16a8e183"
   },
   "outputs": [
    {
     "data": {
      "text/html": [
       "<div>\n",
       "<style scoped>\n",
       "    .dataframe tbody tr th:only-of-type {\n",
       "        vertical-align: middle;\n",
       "    }\n",
       "\n",
       "    .dataframe tbody tr th {\n",
       "        vertical-align: top;\n",
       "    }\n",
       "\n",
       "    .dataframe thead th {\n",
       "        text-align: right;\n",
       "    }\n",
       "</style>\n",
       "<table border=\"1\" class=\"dataframe\">\n",
       "  <thead>\n",
       "    <tr style=\"text-align: right;\">\n",
       "      <th></th>\n",
       "      <th>Duración</th>\n",
       "      <th>Fecha de inicio</th>\n",
       "      <th>Estación de inicio</th>\n",
       "      <th>Fecha de fin</th>\n",
       "      <th>Estación de fin</th>\n",
       "      <th>ID ciclista</th>\n",
       "      <th>Año</th>\n",
       "      <th>Mes</th>\n",
       "      <th>Día del mes</th>\n",
       "      <th>Día de la semana</th>\n",
       "      <th>Hora</th>\n",
       "      <th>Recorrido</th>\n",
       "    </tr>\n",
       "  </thead>\n",
       "  <tbody>\n",
       "    <tr>\n",
       "      <th>0</th>\n",
       "      <td>14.7</td>\n",
       "      <td>2020-12-31 23:54:22</td>\n",
       "      <td>HOSPITAL ALEMÁN</td>\n",
       "      <td>2021-01-01 00:09:04</td>\n",
       "      <td>ARMENIA Y GORRITI</td>\n",
       "      <td>666202</td>\n",
       "      <td>2020</td>\n",
       "      <td>12</td>\n",
       "      <td>31</td>\n",
       "      <td>3</td>\n",
       "      <td>23</td>\n",
       "      <td>HOSPITAL ALEMÁN - ARMENIA Y GORRITI</td>\n",
       "    </tr>\n",
       "    <tr>\n",
       "      <th>1</th>\n",
       "      <td>14.9</td>\n",
       "      <td>2020-12-29 12:39:18</td>\n",
       "      <td>HOSPITAL ALEMÁN</td>\n",
       "      <td>2020-12-29 12:54:12</td>\n",
       "      <td>ARMENIA Y GORRITI</td>\n",
       "      <td>332689</td>\n",
       "      <td>2020</td>\n",
       "      <td>12</td>\n",
       "      <td>29</td>\n",
       "      <td>1</td>\n",
       "      <td>12</td>\n",
       "      <td>HOSPITAL ALEMÁN - ARMENIA Y GORRITI</td>\n",
       "    </tr>\n",
       "    <tr>\n",
       "      <th>2</th>\n",
       "      <td>22.7</td>\n",
       "      <td>2020-12-21 21:21:38</td>\n",
       "      <td>HOSPITAL ALEMÁN</td>\n",
       "      <td>2020-12-21 21:44:19</td>\n",
       "      <td>ARMENIA Y GORRITI</td>\n",
       "      <td>57949</td>\n",
       "      <td>2020</td>\n",
       "      <td>12</td>\n",
       "      <td>21</td>\n",
       "      <td>0</td>\n",
       "      <td>21</td>\n",
       "      <td>HOSPITAL ALEMÁN - ARMENIA Y GORRITI</td>\n",
       "    </tr>\n",
       "    <tr>\n",
       "      <th>3</th>\n",
       "      <td>16.8</td>\n",
       "      <td>2020-12-20 21:58:19</td>\n",
       "      <td>HOSPITAL ALEMÁN</td>\n",
       "      <td>2020-12-20 22:15:09</td>\n",
       "      <td>ARMENIA Y GORRITI</td>\n",
       "      <td>454846</td>\n",
       "      <td>2020</td>\n",
       "      <td>12</td>\n",
       "      <td>20</td>\n",
       "      <td>6</td>\n",
       "      <td>21</td>\n",
       "      <td>HOSPITAL ALEMÁN - ARMENIA Y GORRITI</td>\n",
       "    </tr>\n",
       "    <tr>\n",
       "      <th>4</th>\n",
       "      <td>24.8</td>\n",
       "      <td>2020-12-20 13:32:53</td>\n",
       "      <td>HOSPITAL ALEMÁN</td>\n",
       "      <td>2020-12-20 13:57:43</td>\n",
       "      <td>ARMENIA Y GORRITI</td>\n",
       "      <td>690975</td>\n",
       "      <td>2020</td>\n",
       "      <td>12</td>\n",
       "      <td>20</td>\n",
       "      <td>6</td>\n",
       "      <td>13</td>\n",
       "      <td>HOSPITAL ALEMÁN - ARMENIA Y GORRITI</td>\n",
       "    </tr>\n",
       "  </tbody>\n",
       "</table>\n",
       "</div>"
      ],
      "text/plain": [
       "   Duración     Fecha de inicio  ... Hora                            Recorrido\n",
       "0      14.7 2020-12-31 23:54:22  ...   23  HOSPITAL ALEMÁN - ARMENIA Y GORRITI\n",
       "1      14.9 2020-12-29 12:39:18  ...   12  HOSPITAL ALEMÁN - ARMENIA Y GORRITI\n",
       "2      22.7 2020-12-21 21:21:38  ...   21  HOSPITAL ALEMÁN - ARMENIA Y GORRITI\n",
       "3      16.8 2020-12-20 21:58:19  ...   21  HOSPITAL ALEMÁN - ARMENIA Y GORRITI\n",
       "4      24.8 2020-12-20 13:32:53  ...   13  HOSPITAL ALEMÁN - ARMENIA Y GORRITI\n",
       "\n",
       "[5 rows x 12 columns]"
      ]
     },
     "execution_count": 28,
     "metadata": {},
     "output_type": "execute_result"
    }
   ],
   "source": [
    "recorridos_2020_2021.head()"
   ]
  },
  {
   "cell_type": "markdown",
   "metadata": {
    "id": "77KRNbUbpL7s"
   },
   "source": [
    "# Dataset de ubicación de estaciones"
   ]
  },
  {
   "cell_type": "code",
   "execution_count": 29,
   "metadata": {
    "colab": {
     "base_uri": "https://localhost:8080/",
     "height": 380
    },
    "executionInfo": {
     "elapsed": 947,
     "status": "ok",
     "timestamp": 1637622298201,
     "user": {
      "displayName": "Gaston Barisani",
      "photoUrl": "https://lh3.googleusercontent.com/a-/AOh14GjPiAZd2ATBrZfu2xlPlnBc-Riz1L3YuKMUrQwpfw=s64",
      "userId": "12488591318735436684"
     },
     "user_tz": 180
    },
    "id": "XHn-875soTLV",
    "outputId": "5769c979-123d-4d19-b84b-d85199ed0dd1"
   },
   "outputs": [
    {
     "data": {
      "text/html": [
       "<div>\n",
       "<style scoped>\n",
       "    .dataframe tbody tr th:only-of-type {\n",
       "        vertical-align: middle;\n",
       "    }\n",
       "\n",
       "    .dataframe tbody tr th {\n",
       "        vertical-align: top;\n",
       "    }\n",
       "\n",
       "    .dataframe thead th {\n",
       "        text-align: right;\n",
       "    }\n",
       "</style>\n",
       "<table border=\"1\" class=\"dataframe\">\n",
       "  <thead>\n",
       "    <tr style=\"text-align: right;\">\n",
       "      <th></th>\n",
       "      <th>WKT</th>\n",
       "      <th>id</th>\n",
       "      <th>codigo</th>\n",
       "      <th>nombre</th>\n",
       "      <th>ubicacion</th>\n",
       "      <th>tipo</th>\n",
       "      <th>horario</th>\n",
       "      <th>anclajes_t</th>\n",
       "    </tr>\n",
       "  </thead>\n",
       "  <tbody>\n",
       "    <tr>\n",
       "      <th>0</th>\n",
       "      <td>POINT (-58.3747109506359 -34.5924239181221)</td>\n",
       "      <td>2</td>\n",
       "      <td>2</td>\n",
       "      <td>002 - Retiro I</td>\n",
       "      <td>Ramos Mejia, Jose Maria, Dr. Av. &amp; Del Liberta...</td>\n",
       "      <td>AUTOMÁTICA</td>\n",
       "      <td>Estación automática: disponibilidad las 24 horas</td>\n",
       "      <td>20</td>\n",
       "    </tr>\n",
       "    <tr>\n",
       "      <th>1</th>\n",
       "      <td>POINT (-58.368256111128 -34.611033074021)</td>\n",
       "      <td>3</td>\n",
       "      <td>3</td>\n",
       "      <td>003 - ADUANA</td>\n",
       "      <td>Moreno &amp; Av Paseo Colon</td>\n",
       "      <td>AUTOMÁTICA</td>\n",
       "      <td>Estación automática: disponibilidad las 24 horas</td>\n",
       "      <td>20</td>\n",
       "    </tr>\n",
       "    <tr>\n",
       "      <th>2</th>\n",
       "      <td>POINT (-58.3687766674259 -34.6018228613782)</td>\n",
       "      <td>4</td>\n",
       "      <td>4</td>\n",
       "      <td>004 - Plaza Roma</td>\n",
       "      <td>Lavalle &amp; Bouchard</td>\n",
       "      <td>AUTOMÁTICA</td>\n",
       "      <td>Estación automática: disponibilidad las 24 horas</td>\n",
       "      <td>20</td>\n",
       "    </tr>\n",
       "    <tr>\n",
       "      <th>3</th>\n",
       "      <td>POINT (-58.420951914897 -34.5805498216605)</td>\n",
       "      <td>5</td>\n",
       "      <td>5</td>\n",
       "      <td>005 - Plaza Italia</td>\n",
       "      <td>Av. Sarmiento 2601</td>\n",
       "      <td>AUTOMÁTICA</td>\n",
       "      <td>Estación automática: disponibilidad las 24 horas</td>\n",
       "      <td>42</td>\n",
       "    </tr>\n",
       "    <tr>\n",
       "      <th>4</th>\n",
       "      <td>POINT (-58.3697538990917 -34.6285274659984)</td>\n",
       "      <td>6</td>\n",
       "      <td>6</td>\n",
       "      <td>006 - Parque Lezama</td>\n",
       "      <td>Avenida Martin Garcia, 295</td>\n",
       "      <td>AUTOMÁTICA</td>\n",
       "      <td>Estación automática: disponibilidad las 24 horas</td>\n",
       "      <td>20</td>\n",
       "    </tr>\n",
       "  </tbody>\n",
       "</table>\n",
       "</div>"
      ],
      "text/plain": [
       "                                           WKT  ...  anclajes_t\n",
       "0  POINT (-58.3747109506359 -34.5924239181221)  ...          20\n",
       "1    POINT (-58.368256111128 -34.611033074021)  ...          20\n",
       "2  POINT (-58.3687766674259 -34.6018228613782)  ...          20\n",
       "3   POINT (-58.420951914897 -34.5805498216605)  ...          42\n",
       "4  POINT (-58.3697538990917 -34.6285274659984)  ...          20\n",
       "\n",
       "[5 rows x 8 columns]"
      ]
     },
     "execution_count": 29,
     "metadata": {},
     "output_type": "execute_result"
    }
   ],
   "source": [
    "#IMPORTO DATASET DE UBICACIONES DE ESTACIONES\n",
    "ubicacion_estaciones = pd.read_csv(root_path+\"nuevas-estaciones-bicicletas-publicas.csv\")\n",
    "ubicacion_estaciones.head()"
   ]
  },
  {
   "cell_type": "code",
   "execution_count": 30,
   "metadata": {
    "colab": {
     "base_uri": "https://localhost:8080/"
    },
    "executionInfo": {
     "elapsed": 101,
     "status": "ok",
     "timestamp": 1637622298204,
     "user": {
      "displayName": "Gaston Barisani",
      "photoUrl": "https://lh3.googleusercontent.com/a-/AOh14GjPiAZd2ATBrZfu2xlPlnBc-Riz1L3YuKMUrQwpfw=s64",
      "userId": "12488591318735436684"
     },
     "user_tz": 180
    },
    "id": "iByBcqxQF5l0",
    "outputId": "dffc83d0-2044-4483-a7a9-16de2d02d534"
   },
   "outputs": [
    {
     "data": {
      "text/plain": [
       "086 - SAAVEDRA             1\n",
       "213 - Hospital Alvear      1\n",
       "276 - PRIMERA JUNTA        1\n",
       "370 - Beauchef             1\n",
       "348 - Villa del Parque     1\n",
       "                          ..\n",
       "044 - Ecoparque            1\n",
       "101 - Fitz Roy             1\n",
       "094 - GÚZMAN               1\n",
       "215 - HOSPITAL ALVAREZ     1\n",
       "041 - Urquiza y Rondeau    1\n",
       "Name: nombre, Length: 229, dtype: int64"
      ]
     },
     "execution_count": 30,
     "metadata": {},
     "output_type": "execute_result"
    }
   ],
   "source": [
    "#VEO LAS ESTACIONES QUE HAY\n",
    "ubicacion_estaciones['nombre'].value_counts()"
   ]
  },
  {
   "cell_type": "code",
   "execution_count": 31,
   "metadata": {
    "colab": {
     "base_uri": "https://localhost:8080/"
    },
    "executionInfo": {
     "elapsed": 590,
     "status": "ok",
     "timestamp": 1637622298784,
     "user": {
      "displayName": "Gaston Barisani",
      "photoUrl": "https://lh3.googleusercontent.com/a-/AOh14GjPiAZd2ATBrZfu2xlPlnBc-Riz1L3YuKMUrQwpfw=s64",
      "userId": "12488591318735436684"
     },
     "user_tz": 180
    },
    "id": "begwPJw0F5ow",
    "outputId": "421ab8c9-3930-41f1-8705-0e698c8c8ff7"
   },
   "outputs": [
    {
     "data": {
      "text/plain": [
       "GODOY CRUZ Y LIBERTADOR    47822\n",
       "PACIFICO                   47577\n",
       "PARQUE CENTENARIO          46426\n",
       "PLAZA BOLIVIA              43534\n",
       "BARRANCAS DE BELGRANO      40615\n",
       "                           ...  \n",
       "UTN II                       203\n",
       "PLAZA MARTIN RODRIGUEZ       201\n",
       "15 DE NOVIEMBRE              172\n",
       "MAIPÚ                        163\n",
       "VILLA DEL PARQUE              66\n",
       "Name: Estación de inicio, Length: 236, dtype: int64"
      ]
     },
     "execution_count": 31,
     "metadata": {},
     "output_type": "execute_result"
    }
   ],
   "source": [
    "recorridos_2020_2021['Estación de inicio'].value_counts() #parecen estar casi todas las estaciones (diferencia de 7 estaciones)"
   ]
  },
  {
   "cell_type": "code",
   "execution_count": 32,
   "metadata": {
    "executionInfo": {
     "elapsed": 33,
     "status": "ok",
     "timestamp": 1637622298787,
     "user": {
      "displayName": "Gaston Barisani",
      "photoUrl": "https://lh3.googleusercontent.com/a-/AOh14GjPiAZd2ATBrZfu2xlPlnBc-Riz1L3YuKMUrQwpfw=s64",
      "userId": "12488591318735436684"
     },
     "user_tz": 180
    },
    "id": "ga22f4gEF5r5"
   },
   "outputs": [],
   "source": [
    "#ESTANDARIZO LOS NOMBRES DE LAS UBICACIONES DE LAS ESTACIONES\n",
    "ubicacion_estaciones[\"nombre\"].replace(to_replace = '\\d{3}\\s\\-\\s', value = '', regex = True, inplace = True)\n",
    "ubicacion_estaciones[\"nombre\"].replace(to_replace = '\\d{3}\\s\\-', value = '', regex = True, inplace = True)\n",
    "ubicacion_estaciones[\"nombre\"].replace(to_replace = '\\d{3}\\-', value = '', regex = True, inplace = True)\n",
    "ubicacion_estaciones[\"nombre\"].replace(to_replace = '\\d{3}\\-\\s', value = '', regex = True, inplace = True)"
   ]
  },
  {
   "cell_type": "code",
   "execution_count": 33,
   "metadata": {
    "executionInfo": {
     "elapsed": 33,
     "status": "ok",
     "timestamp": 1637622298789,
     "user": {
      "displayName": "Gaston Barisani",
      "photoUrl": "https://lh3.googleusercontent.com/a-/AOh14GjPiAZd2ATBrZfu2xlPlnBc-Riz1L3YuKMUrQwpfw=s64",
      "userId": "12488591318735436684"
     },
     "user_tz": 180
    },
    "id": "28R-wIMxF5u_"
   },
   "outputs": [],
   "source": [
    "#PASO TODO A MAYUSCULAS\n",
    "ubicacion_estaciones[\"nombre\"] = ubicacion_estaciones[\"nombre\"].str.upper()"
   ]
  },
  {
   "cell_type": "code",
   "execution_count": 34,
   "metadata": {
    "executionInfo": {
     "elapsed": 32,
     "status": "ok",
     "timestamp": 1637622298790,
     "user": {
      "displayName": "Gaston Barisani",
      "photoUrl": "https://lh3.googleusercontent.com/a-/AOh14GjPiAZd2ATBrZfu2xlPlnBc-Riz1L3YuKMUrQwpfw=s64",
      "userId": "12488591318735436684"
     },
     "user_tz": 180
    },
    "id": "UY1V6BcBHwnj"
   },
   "outputs": [],
   "source": [
    "#ELIMINO ESPACIOS ANTES Y DESPUES DEL NOMBRE DE ESTACIÓN\n",
    "ubicacion_estaciones[\"nombre\"] = ubicacion_estaciones[\"nombre\"].str.strip()"
   ]
  },
  {
   "cell_type": "code",
   "execution_count": 35,
   "metadata": {
    "colab": {
     "base_uri": "https://localhost:8080/"
    },
    "executionInfo": {
     "elapsed": 32,
     "status": "ok",
     "timestamp": 1637622298791,
     "user": {
      "displayName": "Gaston Barisani",
      "photoUrl": "https://lh3.googleusercontent.com/a-/AOh14GjPiAZd2ATBrZfu2xlPlnBc-Riz1L3YuKMUrQwpfw=s64",
      "userId": "12488591318735436684"
     },
     "user_tz": 180
    },
    "id": "ug9m6ykBIDBL",
    "outputId": "0468d64b-f82d-4326-a7fe-43ccc5754b9e"
   },
   "outputs": [
    {
     "data": {
      "text/plain": [
       "array(['25 DE MAYO', '33 ORIENTALES', '9 DE JULIO', 'ACEVEDO',\n",
       "       'ACUÑA DE FIGUEROA', 'ADUANA', 'AGRONOMIA II', 'AGUERO',\n",
       "       'AIME PAINÉ', 'ALSINA', 'ARANGUREN', 'ARAOZ', 'ARENALES',\n",
       "       'ARENALES Y AGUERO', 'ARMENIA', 'ARMENIA Y GORRITI',\n",
       "       'AUSTRIA Y FRENCH', 'AV. LA PLATA', 'AVELINO DIAZ', 'AYACUCHO',\n",
       "       'AZOPARDO Y CHILE', 'AZUCENA VILLAFLOR', 'BALBÍN',\n",
       "       'BARRANCAS DE BELGRANO', 'BARRIO 31', 'BEAUCHEF', 'BEIRO',\n",
       "       'BIARRITZ', 'BILLINGHURST', 'BILLINGHURST Y MANSILLA', 'BRASIL',\n",
       "       'BUENOS AIRES', 'CABELLO', 'CALIFORNIA', 'CAMPANA', 'CARLOS CALVO',\n",
       "       'CARLOS GARDEL', 'CASA SAN', 'CATEDRAL', 'CEMENTERIO DE RECOLETA',\n",
       "       'CENTRO DE EXPOSICIONES', 'CERRITO', 'CHILE',\n",
       "       'CLAUDIA PIA BRAUDACCO', 'CLUB CIUDAD DE BUENOS AIRES', 'COGHLAN',\n",
       "       'COLONIA EXPRESS', 'CONGRESO', 'CONSTITUCIÓN', 'CORONEL DIAZ',\n",
       "       'CORRIENTES', 'CULPINA', 'DE LOS INCAS', 'DELLA PAOLERA',\n",
       "       'DIAGONAL NORTE', 'DISTRITO AUDIOVISUAL', 'DOBLAS', 'DON BOSCO',\n",
       "       'DONATO ALVAREZ', 'ECHEVERRIA', 'ECOPARQUE', 'ECUADOR',\n",
       "       'ESMERALDA', 'ESPINOSA', 'ESTADOS UNIDOS',\n",
       "       'ESTADOS UNIDOS Y BOEDO', 'F.J.SANTAMARIA DE ORO',\n",
       "       'FACULTAD DE DERECHO', 'FACULTAD DE INGENERIA',\n",
       "       'FACULTAD DE MEDICINA', 'FEDERICO LACROZE', 'FITZ ROY',\n",
       "       'FITZ ROY & GORRITI', 'FLENI', 'GAINZA', 'GALICIA',\n",
       "       'GARCIA DEL RIO', 'GENERAL URQUIZA', 'GODOY CRUZ Y LIBERTADOR',\n",
       "       'GUATEMALA', 'GUAYAQUIL', 'GÚZMAN', 'HIPÓLITO YRIGOYEN',\n",
       "       'HOSPITAL ALEMÁN', 'HOSPITAL ALVAREZ', 'HOSPITAL ALVEAR',\n",
       "       'HOSPITAL ARGERICH', 'HOSPITAL BRITANICO', 'HOSPITAL DE CLÍNICAS',\n",
       "       'HOSPITAL FRANCÉS', 'HOSPITAL GARRAHAN', 'HOSPITAL ITALIANO',\n",
       "       'HOSPITAL RAMOS MEJIA', 'HOSPITAL RIVADAVIA', 'HOSPITAL TORNU',\n",
       "       'HUMAHUACA', 'HUMBERTO 1°', 'HUSARES', 'INDEPENDENCIA',\n",
       "       'INGENIERO BUTTY', 'INSTITUTO  LELOIR', 'JORGELINA DE SIMONE',\n",
       "       'JOSE MARIA MORENO', 'JOSÉ MARMOL', 'JUAN MANUEL DE BLANES',\n",
       "       'JUANA MANSO I', 'JULIETA LANTERI', 'JULIÁN ÁLVAREZ', 'JUNCAL',\n",
       "       'JURAMENTO', 'LA PAMPA', 'LARREA Y BARTOLOMÉ MITRE', 'LAS CASAS',\n",
       "       'LAS VICTORIAS', 'LAVALLE', 'LEGISLATURA', 'LIMA', 'LUNA',\n",
       "       'MACACHA GUEMES', 'MADERO OFFICE', 'MALABIA', 'MALBA',\n",
       "       'MANZANA 66', 'MARCELO T. DE ALVEAR', 'MARTINEZ CASTRO',\n",
       "       'MARTÍ Y DIRECTORIO', 'MATIENZO Y ARCE', 'MEXICO',\n",
       "       'MINISTERIO DE ECONOMIA', 'MINISTERIO DE EDUCACION',\n",
       "       'MINISTERIO DE JUSTICIA Y SEGURIDAD', 'MINISTRO CARRANZA', 'MIRO',\n",
       "       'MONROE', 'MONTAÑESES', 'MONTEVIDEO', 'OBELISCO', 'ONCE',\n",
       "       'ONCE II', 'PACIFICO', 'PARANÁ', 'PARQUE AVELLANEDA',\n",
       "       'PARQUE CENTENARIO', 'PARQUE DEL BAJO',\n",
       "       'PARQUE JOSÉ EVARISTO URIBURU', 'PARQUE LAS HERAS',\n",
       "       'PARQUE LEZAMA', 'PARQUE PATRICIOS', 'PASCO', 'PASTEUR',\n",
       "       'PEDRO ECHAGUE', 'PERÓN Y ACUÑA DE FIGUEROA', 'PEÑA',\n",
       "       'PLAZA 24 DE SEPTIEMBRE', 'PLAZA ALBERTI', 'PLAZA ALEMANIA',\n",
       "       'PLAZA ALMAGRO', 'PLAZA ARENALES', 'PLAZA ARISTÓBULO DEL VALLE',\n",
       "       'PLAZA BENITO NAZAR', 'PLAZA BOLIVIA', 'PLAZA BRUNO GIORDANO',\n",
       "       'PLAZA CASTELLI', 'PLAZA DEL ANGEL GRIS',\n",
       "       'PLAZA DON SEGUNDO SOMBRA', 'PLAZA FRANCISCO RAMIREZ',\n",
       "       'PLAZA GUEMES', 'PLAZA GURRUCHAGA', 'PLAZA IRLANDA',\n",
       "       'PLAZA ITALIA', 'PLAZA J.J. PASO', 'PLAZA LIBERTAD',\n",
       "       'PLAZA MARCOS SASTRE', 'PLAZA MONSEÑOR MIGUEL DE ANDREA',\n",
       "       'PLAZA NORUEGA', 'PLAZA NUEVA POMPEYA', 'PLAZA PALERMO VIEJO',\n",
       "       'PLAZA PRIMERO DE MAYO', 'PLAZA RAFAEL HERNANDEZ',\n",
       "       'PLAZA REPÚBLICA DE ECUADOR', 'PLAZA ROMA', 'PLAZA SAENZ PEÑA',\n",
       "       'PLAZA TUPAC AMARU', 'PLAZA VICENTE LOPEZ', 'PLAZA ZAPIOLA',\n",
       "       'PLAZOLETA CELEDONIO FLORES', 'PLAZOLETA COLOMBIA',\n",
       "       'PLAZOLETA RAFAEL DEL RIEGO', 'POSADAS', 'PRIMERA JUNTA', 'PUAN',\n",
       "       'PUEYRREDÓN', 'QUINTEROS LIDORO', 'QUINTINO BOCAYUVA',\n",
       "       'RAVIGNANI Y GUATEMALA', 'RECONQUISTA', 'RETIRO I', 'RETIRO II',\n",
       "       'RIGLOS', 'RIOBAMBA', 'RIVADAVIA Y 9 DE JULIO', 'RODRIGO BUENO',\n",
       "       'RUY DÍAZ DE GUZMÁN', 'SAAVEDRA', 'SALCEDO', 'SAN JOSE DE FLORES',\n",
       "       'SAN MARTIN', 'SAN MIGUEL DE GARICOITS', 'SIMON BOLIVAR',\n",
       "       'SOLAR DE LA ABADÍA', 'SUIPACHA', 'TAMBORINI', 'TRONADOR',\n",
       "       'TRONADOR Y GARCÍA DEL RÍO', 'TUCUMAN', 'UADE', 'UDAONDO',\n",
       "       'UGARTECHE', 'URQUIZA Y RONDEAU', 'URUGUAY', 'USINA DEL ARTE',\n",
       "       'UTN II', 'VELASCO', 'VENANCIO FLORES', 'VILLA DEL PARQUE',\n",
       "       'VILLA URQUIZA', 'VILLARROEL', 'VIRREY CEVALLOS', 'YATAY'],\n",
       "      dtype=object)"
      ]
     },
     "execution_count": 35,
     "metadata": {},
     "output_type": "execute_result"
    }
   ],
   "source": [
    "ubicacion_estaciones[\"nombre\"].sort_values().unique() #chequeo como quedó"
   ]
  },
  {
   "cell_type": "code",
   "execution_count": 36,
   "metadata": {
    "colab": {
     "base_uri": "https://localhost:8080/"
    },
    "executionInfo": {
     "elapsed": 6738,
     "status": "ok",
     "timestamp": 1637622305510,
     "user": {
      "displayName": "Gaston Barisani",
      "photoUrl": "https://lh3.googleusercontent.com/a-/AOh14GjPiAZd2ATBrZfu2xlPlnBc-Riz1L3YuKMUrQwpfw=s64",
      "userId": "12488591318735436684"
     },
     "user_tz": 180
    },
    "id": "TujTbR50IMn1",
    "outputId": "3edbf519-a7ea-42d8-adbc-e7b2ee24749d"
   },
   "outputs": [
    {
     "data": {
      "text/plain": [
       "array(['15 DE NOVIEMBRE', '25 DE MAYO', '33 ORIENTALES', '9 DE JULIO',\n",
       "       'ACEVEDO', 'ACUÑA DE FIGUEROA', 'ADUANA', 'AGRONOMIA',\n",
       "       'AGRONOMIA II', 'AGUERO', 'AIME PAINÉ', 'ALSINA', 'ARANGUREN',\n",
       "       'ARAOZ', 'ARENALES', 'ARENALES Y AGUERO', 'ARMENIA',\n",
       "       'ARMENIA Y GORRITI', 'AUSTRIA Y FRENCH', 'AV. LA PLATA',\n",
       "       'AVELINO DIAZ', 'AYACUCHO', 'AZOPARDO Y CHILE',\n",
       "       'AZUCENA VILLAFLOR', 'BALBÍN', 'BARRANCAS DE BELGRANO',\n",
       "       'BARRIO 31', 'BEAUCHEF', 'BEIRO', 'BIARRITZ', 'BILLINGHURST',\n",
       "       'BILLINGHURST Y MANSILLA', 'BRASIL', 'BUENOS AIRES', 'CABELLO',\n",
       "       'CALIFORNIA', 'CAMPANA', 'CARLOS CALVO', 'CARLOS GARDEL',\n",
       "       'CASA SAN', 'CATEDRAL', 'CEMENTERIO DE RECOLETA',\n",
       "       'CENTRO DE EXPOSICIONES', 'CERRITO', 'CHILE',\n",
       "       'CLAUDIA PIA BRAUDACCO', 'CLAUDIA PÍA BRAUDACCO',\n",
       "       'CLUB CIUDAD DE BUENOS AIRES', 'COGHLAN', 'COLONIA EXPRESS',\n",
       "       'CONGRESO', 'CONSTITUCIÓN', 'CORONEL DIAZ', 'CORRIENTES',\n",
       "       'CULPINA', 'DE LOS INCAS', 'DELLA PAOLERA', 'DIAGONAL NORTE',\n",
       "       'DISTRITO AUDIOVISUAL', 'DOBLAS', 'DON BOSCO', 'DONATO ALVAREZ',\n",
       "       'ECHEVERRIA', 'ECOPARQUE', 'ECUADOR', 'ESMERALDA', 'ESPINOSA',\n",
       "       'ESTADOS UNIDOS', 'ESTADOS UNIDOS Y BOEDO', 'EVA PERÓN',\n",
       "       'F.J.SANTAMARIA DE ORO', 'FACULTAD DE DERECHO',\n",
       "       'FACULTAD DE INGENERIA', 'FACULTAD DE MEDICINA',\n",
       "       'FACULTAD DE PSICOLOGIA', 'FEDERICO LACROZE', 'FITZ ROY',\n",
       "       'FITZ ROY & GORRITI', 'FLENI', 'GAINZA', 'GALICIA',\n",
       "       'GARCIA DEL RIO', 'GENERAL URQUIZA', 'GODOY CRUZ Y LIBERTADOR',\n",
       "       'GUATEMALA', 'GUAYAQUIL', 'GÚZMAN', 'HIPÓLITO YRIGOYEN',\n",
       "       'HOSPITAL ALEMÁN', 'HOSPITAL ALVAREZ', 'HOSPITAL ALVEAR',\n",
       "       'HOSPITAL ARGERICH', 'HOSPITAL BRITANICO', 'HOSPITAL DE CLÍNICAS',\n",
       "       'HOSPITAL FRANCÉS', 'HOSPITAL GARRAHAN', 'HOSPITAL ITALIANO',\n",
       "       'HOSPITAL RAMOS MEJIA', 'HOSPITAL RIVADAVIA', 'HOSPITAL TORNU',\n",
       "       'HUMAHUACA', 'HUMBERTO 1°', 'HUSARES', 'INDEPENDENCIA',\n",
       "       'INGENIERO BUTTY', 'INSTITUTO  LELOIR', 'JORGELINA DE SIMONE',\n",
       "       'JOSE MARIA MORENO', 'JOSÉ MARMOL', 'JOSÉ MARTÍ',\n",
       "       'JUAN MANUEL DE BLANES', 'JUANA MANSO I', 'JULIETA LANTERI',\n",
       "       'JULIÁN ÁLVAREZ', 'JUNCAL', 'JURAMENTO', 'LA PAMPA',\n",
       "       'LARREA Y BARTOLOMÉ MITRE', 'LAS CASAS', 'LAS VICTORIAS',\n",
       "       'LAVALLE', 'LEGISLATURA', 'LIMA', 'LUNA', 'MACACHA GUEMES',\n",
       "       'MADERO OFFICE', 'MAIPÚ', 'MALABIA', 'MALBA', 'MANZANA 66',\n",
       "       'MARCELO T. DE ALVEAR', 'MARTÍ Y DIRECTORIO', 'MATIENZO Y ARCE',\n",
       "       'MEXICO', 'MINISTERIO DE ECONOMIA', 'MINISTERIO DE EDUCACION',\n",
       "       'MINISTERIO DE JUSTICIA Y SEGURIDAD', 'MINISTRO CARRANZA',\n",
       "       'MONROE', 'MONTAÑESES', 'MONTEVIDEO', 'OBELISCO', 'ONCE',\n",
       "       'ONCE II', 'PACIFICO', 'PARANÁ', 'PARQUE AVELLANEDA',\n",
       "       'PARQUE CENTENARIO', 'PARQUE DEL BAJO',\n",
       "       'PARQUE JOSÉ EVARISTO URIBURU', 'PARQUE LAS HERAS',\n",
       "       'PARQUE LEZAMA', 'PARQUE PATRICIOS', 'PASCO', 'PASTEUR',\n",
       "       'PEDRO ECHAGUE', 'PERÓN Y ACUÑA DE FIGUEROA', 'PEÑA',\n",
       "       'PLAZA 24 DE SEPTIEMBRE', 'PLAZA ALBERTI', 'PLAZA ALEMANIA',\n",
       "       'PLAZA ALMAGRO', 'PLAZA ARENALES', 'PLAZA ARISTÓBULO DEL VALLE',\n",
       "       'PLAZA BENITO NAZAR', 'PLAZA BOLIVIA', 'PLAZA BRUNO GIORDANO',\n",
       "       'PLAZA CASTELLI', 'PLAZA CIUDAD DE UDINE', 'PLAZA DEL ANGEL GRIS',\n",
       "       'PLAZA DON SEGUNDO SOMBRA', 'PLAZA FRANCISCO RAMIREZ',\n",
       "       'PLAZA GUEMES', 'PLAZA GURRUCHAGA', 'PLAZA IRLANDA',\n",
       "       'PLAZA ITALIA', 'PLAZA J.J. PASO', 'PLAZA LIBERTAD',\n",
       "       'PLAZA MARCOS SASTRE', 'PLAZA MARTIN RODRIGUEZ',\n",
       "       'PLAZA MONSEÑOR MIGUEL DE ANDREA', 'PLAZA NORUEGA',\n",
       "       'PLAZA NUEVA POMPEYA', 'PLAZA PALERMO VIEJO',\n",
       "       'PLAZA PRIMERO DE MAYO', 'PLAZA RAFAEL HERNANDEZ',\n",
       "       'PLAZA REPÚBLICA DE ECUADOR', 'PLAZA ROMA', 'PLAZA SAENZ PEÑA',\n",
       "       'PLAZA VICENTE LOPEZ', 'PLAZA ZAPIOLA',\n",
       "       'PLAZOLETA CELEDONIO FLORES', 'PLAZOLETA COLOMBIA',\n",
       "       'PLAZOLETA RAFAEL DEL RIEGO', 'POSADAS', 'PRIMERA JUNTA', 'PUAN',\n",
       "       'PUEYRREDÓN', 'QUINTEROS LIDORO', 'QUINTINO BOCAYUVA',\n",
       "       'RAVIGNANI Y GUATEMALA', 'RECONQUISTA', 'RETIRO I', 'RETIRO II',\n",
       "       'RIGLOS', 'RIOBAMBA', 'RIVADAVIA Y 9 DE JULIO', 'RODRIGO BUENO',\n",
       "       'RUY DÍAZ DE GUZMÁN', 'SAAVEDRA', 'SALCEDO', 'SAN JOSE DE FLORES',\n",
       "       'SAN MARTIN', 'SAN MIGUEL DE GARICOITS', 'SIMON BOLIVAR',\n",
       "       'SOLAR DE LA ABADÍA', 'SUIPACHA', 'TAMBORINI', 'TRONADOR',\n",
       "       'TRONADOR Y GARCÍA DEL RÍO', 'TUCUMAN', 'UADE', 'UDAONDO',\n",
       "       'UGARTECHE', 'URQUIZA Y RONDEAU', 'URUGUAY', 'USINA DEL ARTE',\n",
       "       'UTN II', 'VELASCO', 'VENANCIO FLORES', 'VERA PEÑALOZA',\n",
       "       'VILLA DEL PARQUE', 'VILLA URQUIZA', 'VILLARROEL',\n",
       "       'VIRREY CEVALLOS', 'YATAY'], dtype=object)"
      ]
     },
     "execution_count": 36,
     "metadata": {},
     "output_type": "execute_result"
    }
   ],
   "source": [
    "recorridos_2020_2021['Estación de inicio'].sort_values().unique() #parecen haber quedado con el mismo formato"
   ]
  },
  {
   "cell_type": "code",
   "execution_count": 37,
   "metadata": {
    "executionInfo": {
     "elapsed": 47,
     "status": "ok",
     "timestamp": 1637622305512,
     "user": {
      "displayName": "Gaston Barisani",
      "photoUrl": "https://lh3.googleusercontent.com/a-/AOh14GjPiAZd2ATBrZfu2xlPlnBc-Riz1L3YuKMUrQwpfw=s64",
      "userId": "12488591318735436684"
     },
     "user_tz": 180
    },
    "id": "l7T2KtOKJQ1L"
   },
   "outputs": [],
   "source": [
    "#BORRO COLUMNAS INNECESARIAS\n",
    "ubicacion_estaciones = ubicacion_estaciones.drop([\"id\", \"codigo\", \"ubicacion\", \"tipo\", \"horario\"], axis=1)"
   ]
  },
  {
   "cell_type": "code",
   "execution_count": 38,
   "metadata": {
    "executionInfo": {
     "elapsed": 683,
     "status": "ok",
     "timestamp": 1637622306152,
     "user": {
      "displayName": "Gaston Barisani",
      "photoUrl": "https://lh3.googleusercontent.com/a-/AOh14GjPiAZd2ATBrZfu2xlPlnBc-Riz1L3YuKMUrQwpfw=s64",
      "userId": "12488591318735436684"
     },
     "user_tz": 180
    },
    "id": "pCGeu_03MiUn"
   },
   "outputs": [],
   "source": [
    "#LIMPIO COORDENADAS\n",
    "ubicacion_estaciones[\"WKT\"].replace(to_replace = 'POINT', value = '', regex = True, inplace = True)\n",
    "ubicacion_estaciones[\"WKT\"].replace(to_replace = '\\s\\(', value = '', regex = True, inplace = True)\n",
    "ubicacion_estaciones[\"WKT\"].replace(to_replace = '\\)', value = '', regex = True, inplace = True)"
   ]
  },
  {
   "cell_type": "code",
   "execution_count": 39,
   "metadata": {
    "colab": {
     "base_uri": "https://localhost:8080/",
     "height": 206
    },
    "executionInfo": {
     "elapsed": 61,
     "status": "ok",
     "timestamp": 1637622306155,
     "user": {
      "displayName": "Gaston Barisani",
      "photoUrl": "https://lh3.googleusercontent.com/a-/AOh14GjPiAZd2ATBrZfu2xlPlnBc-Riz1L3YuKMUrQwpfw=s64",
      "userId": "12488591318735436684"
     },
     "user_tz": 180
    },
    "id": "l1a0MU62MO03",
    "outputId": "17987ef6-1a19-494c-b7a8-265a93692cbe"
   },
   "outputs": [
    {
     "data": {
      "text/html": [
       "<div>\n",
       "<style scoped>\n",
       "    .dataframe tbody tr th:only-of-type {\n",
       "        vertical-align: middle;\n",
       "    }\n",
       "\n",
       "    .dataframe tbody tr th {\n",
       "        vertical-align: top;\n",
       "    }\n",
       "\n",
       "    .dataframe thead th {\n",
       "        text-align: right;\n",
       "    }\n",
       "</style>\n",
       "<table border=\"1\" class=\"dataframe\">\n",
       "  <thead>\n",
       "    <tr style=\"text-align: right;\">\n",
       "      <th></th>\n",
       "      <th>WKT</th>\n",
       "      <th>nombre</th>\n",
       "      <th>anclajes_t</th>\n",
       "    </tr>\n",
       "  </thead>\n",
       "  <tbody>\n",
       "    <tr>\n",
       "      <th>0</th>\n",
       "      <td>-58.3747109506359 -34.5924239181221</td>\n",
       "      <td>RETIRO I</td>\n",
       "      <td>20</td>\n",
       "    </tr>\n",
       "    <tr>\n",
       "      <th>1</th>\n",
       "      <td>-58.368256111128 -34.611033074021</td>\n",
       "      <td>ADUANA</td>\n",
       "      <td>20</td>\n",
       "    </tr>\n",
       "    <tr>\n",
       "      <th>2</th>\n",
       "      <td>-58.3687766674259 -34.6018228613782</td>\n",
       "      <td>PLAZA ROMA</td>\n",
       "      <td>20</td>\n",
       "    </tr>\n",
       "    <tr>\n",
       "      <th>3</th>\n",
       "      <td>-58.420951914897 -34.5805498216605</td>\n",
       "      <td>PLAZA ITALIA</td>\n",
       "      <td>42</td>\n",
       "    </tr>\n",
       "    <tr>\n",
       "      <th>4</th>\n",
       "      <td>-58.3697538990917 -34.6285274659984</td>\n",
       "      <td>PARQUE LEZAMA</td>\n",
       "      <td>20</td>\n",
       "    </tr>\n",
       "  </tbody>\n",
       "</table>\n",
       "</div>"
      ],
      "text/plain": [
       "                                   WKT         nombre  anclajes_t\n",
       "0  -58.3747109506359 -34.5924239181221       RETIRO I          20\n",
       "1    -58.368256111128 -34.611033074021         ADUANA          20\n",
       "2  -58.3687766674259 -34.6018228613782     PLAZA ROMA          20\n",
       "3   -58.420951914897 -34.5805498216605   PLAZA ITALIA          42\n",
       "4  -58.3697538990917 -34.6285274659984  PARQUE LEZAMA          20"
      ]
     },
     "execution_count": 39,
     "metadata": {},
     "output_type": "execute_result"
    }
   ],
   "source": [
    "ubicacion_estaciones.head()"
   ]
  },
  {
   "cell_type": "code",
   "execution_count": 40,
   "metadata": {
    "executionInfo": {
     "elapsed": 65,
     "status": "ok",
     "timestamp": 1637622306162,
     "user": {
      "displayName": "Gaston Barisani",
      "photoUrl": "https://lh3.googleusercontent.com/a-/AOh14GjPiAZd2ATBrZfu2xlPlnBc-Riz1L3YuKMUrQwpfw=s64",
      "userId": "12488591318735436684"
     },
     "user_tz": 180
    },
    "id": "f5mJRwSJwWef"
   },
   "outputs": [],
   "source": [
    "#RECORRO CADA ESTACION Y EXTRAIGO LONGITUD Y LATITUD EN COLUMNAS SEPARADAS\n",
    "ubicacion_estaciones[\"Longitud\"] = 0\n",
    "ubicacion_estaciones[\"Latitud\"] = 0\n",
    "for i in range(len(ubicacion_estaciones)):\n",
    "  a = ubicacion_estaciones[\"WKT\"][i]\n",
    "  a = re.findall(\"\\-\\d{2}\\.\\d*\", a)\n",
    "  ubicacion_estaciones[\"Longitud\"][i] = a[0]\n",
    "  ubicacion_estaciones[\"Latitud\"][i] = a[1] "
   ]
  },
  {
   "cell_type": "code",
   "execution_count": 41,
   "metadata": {
    "colab": {
     "base_uri": "https://localhost:8080/",
     "height": 206
    },
    "executionInfo": {
     "elapsed": 68,
     "status": "ok",
     "timestamp": 1637622306167,
     "user": {
      "displayName": "Gaston Barisani",
      "photoUrl": "https://lh3.googleusercontent.com/a-/AOh14GjPiAZd2ATBrZfu2xlPlnBc-Riz1L3YuKMUrQwpfw=s64",
      "userId": "12488591318735436684"
     },
     "user_tz": 180
    },
    "id": "LwoyKR29xlkX",
    "outputId": "a69fb927-3112-4443-a75c-765132d8ca0d"
   },
   "outputs": [
    {
     "data": {
      "text/html": [
       "<div>\n",
       "<style scoped>\n",
       "    .dataframe tbody tr th:only-of-type {\n",
       "        vertical-align: middle;\n",
       "    }\n",
       "\n",
       "    .dataframe tbody tr th {\n",
       "        vertical-align: top;\n",
       "    }\n",
       "\n",
       "    .dataframe thead th {\n",
       "        text-align: right;\n",
       "    }\n",
       "</style>\n",
       "<table border=\"1\" class=\"dataframe\">\n",
       "  <thead>\n",
       "    <tr style=\"text-align: right;\">\n",
       "      <th></th>\n",
       "      <th>WKT</th>\n",
       "      <th>nombre</th>\n",
       "      <th>anclajes_t</th>\n",
       "      <th>Longitud</th>\n",
       "      <th>Latitud</th>\n",
       "    </tr>\n",
       "  </thead>\n",
       "  <tbody>\n",
       "    <tr>\n",
       "      <th>0</th>\n",
       "      <td>-58.3747109506359 -34.5924239181221</td>\n",
       "      <td>RETIRO I</td>\n",
       "      <td>20</td>\n",
       "      <td>-58.3747109506359</td>\n",
       "      <td>-34.5924239181221</td>\n",
       "    </tr>\n",
       "    <tr>\n",
       "      <th>1</th>\n",
       "      <td>-58.368256111128 -34.611033074021</td>\n",
       "      <td>ADUANA</td>\n",
       "      <td>20</td>\n",
       "      <td>-58.368256111128</td>\n",
       "      <td>-34.611033074021</td>\n",
       "    </tr>\n",
       "    <tr>\n",
       "      <th>2</th>\n",
       "      <td>-58.3687766674259 -34.6018228613782</td>\n",
       "      <td>PLAZA ROMA</td>\n",
       "      <td>20</td>\n",
       "      <td>-58.3687766674259</td>\n",
       "      <td>-34.6018228613782</td>\n",
       "    </tr>\n",
       "    <tr>\n",
       "      <th>3</th>\n",
       "      <td>-58.420951914897 -34.5805498216605</td>\n",
       "      <td>PLAZA ITALIA</td>\n",
       "      <td>42</td>\n",
       "      <td>-58.420951914897</td>\n",
       "      <td>-34.5805498216605</td>\n",
       "    </tr>\n",
       "    <tr>\n",
       "      <th>4</th>\n",
       "      <td>-58.3697538990917 -34.6285274659984</td>\n",
       "      <td>PARQUE LEZAMA</td>\n",
       "      <td>20</td>\n",
       "      <td>-58.3697538990917</td>\n",
       "      <td>-34.6285274659984</td>\n",
       "    </tr>\n",
       "  </tbody>\n",
       "</table>\n",
       "</div>"
      ],
      "text/plain": [
       "                                   WKT  ...            Latitud\n",
       "0  -58.3747109506359 -34.5924239181221  ...  -34.5924239181221\n",
       "1    -58.368256111128 -34.611033074021  ...   -34.611033074021\n",
       "2  -58.3687766674259 -34.6018228613782  ...  -34.6018228613782\n",
       "3   -58.420951914897 -34.5805498216605  ...  -34.5805498216605\n",
       "4  -58.3697538990917 -34.6285274659984  ...  -34.6285274659984\n",
       "\n",
       "[5 rows x 5 columns]"
      ]
     },
     "execution_count": 41,
     "metadata": {},
     "output_type": "execute_result"
    }
   ],
   "source": [
    "ubicacion_estaciones.head()"
   ]
  },
  {
   "cell_type": "code",
   "execution_count": 42,
   "metadata": {
    "executionInfo": {
     "elapsed": 68,
     "status": "ok",
     "timestamp": 1637622306171,
     "user": {
      "displayName": "Gaston Barisani",
      "photoUrl": "https://lh3.googleusercontent.com/a-/AOh14GjPiAZd2ATBrZfu2xlPlnBc-Riz1L3YuKMUrQwpfw=s64",
      "userId": "12488591318735436684"
     },
     "user_tz": 180
    },
    "id": "YpIQGnv0x0iP"
   },
   "outputs": [],
   "source": [
    "#BORRO COLUMNAS INNECESARIAS\n",
    "ubicacion_estaciones = ubicacion_estaciones.drop([\"WKT\", \"anclajes_t\"], axis=1)"
   ]
  },
  {
   "cell_type": "code",
   "execution_count": 43,
   "metadata": {
    "colab": {
     "base_uri": "https://localhost:8080/",
     "height": 206
    },
    "executionInfo": {
     "elapsed": 70,
     "status": "ok",
     "timestamp": 1637622306174,
     "user": {
      "displayName": "Gaston Barisani",
      "photoUrl": "https://lh3.googleusercontent.com/a-/AOh14GjPiAZd2ATBrZfu2xlPlnBc-Riz1L3YuKMUrQwpfw=s64",
      "userId": "12488591318735436684"
     },
     "user_tz": 180
    },
    "id": "yFBu43J0ye4X",
    "outputId": "72741077-6852-4fb7-f67d-1ae9d2ac5a40"
   },
   "outputs": [
    {
     "data": {
      "text/html": [
       "<div>\n",
       "<style scoped>\n",
       "    .dataframe tbody tr th:only-of-type {\n",
       "        vertical-align: middle;\n",
       "    }\n",
       "\n",
       "    .dataframe tbody tr th {\n",
       "        vertical-align: top;\n",
       "    }\n",
       "\n",
       "    .dataframe thead th {\n",
       "        text-align: right;\n",
       "    }\n",
       "</style>\n",
       "<table border=\"1\" class=\"dataframe\">\n",
       "  <thead>\n",
       "    <tr style=\"text-align: right;\">\n",
       "      <th></th>\n",
       "      <th>nombre</th>\n",
       "      <th>Longitud</th>\n",
       "      <th>Latitud</th>\n",
       "    </tr>\n",
       "  </thead>\n",
       "  <tbody>\n",
       "    <tr>\n",
       "      <th>0</th>\n",
       "      <td>RETIRO I</td>\n",
       "      <td>-58.3747109506359</td>\n",
       "      <td>-34.5924239181221</td>\n",
       "    </tr>\n",
       "    <tr>\n",
       "      <th>1</th>\n",
       "      <td>ADUANA</td>\n",
       "      <td>-58.368256111128</td>\n",
       "      <td>-34.611033074021</td>\n",
       "    </tr>\n",
       "    <tr>\n",
       "      <th>2</th>\n",
       "      <td>PLAZA ROMA</td>\n",
       "      <td>-58.3687766674259</td>\n",
       "      <td>-34.6018228613782</td>\n",
       "    </tr>\n",
       "    <tr>\n",
       "      <th>3</th>\n",
       "      <td>PLAZA ITALIA</td>\n",
       "      <td>-58.420951914897</td>\n",
       "      <td>-34.5805498216605</td>\n",
       "    </tr>\n",
       "    <tr>\n",
       "      <th>4</th>\n",
       "      <td>PARQUE LEZAMA</td>\n",
       "      <td>-58.3697538990917</td>\n",
       "      <td>-34.6285274659984</td>\n",
       "    </tr>\n",
       "  </tbody>\n",
       "</table>\n",
       "</div>"
      ],
      "text/plain": [
       "          nombre           Longitud            Latitud\n",
       "0       RETIRO I  -58.3747109506359  -34.5924239181221\n",
       "1         ADUANA   -58.368256111128   -34.611033074021\n",
       "2     PLAZA ROMA  -58.3687766674259  -34.6018228613782\n",
       "3   PLAZA ITALIA   -58.420951914897  -34.5805498216605\n",
       "4  PARQUE LEZAMA  -58.3697538990917  -34.6285274659984"
      ]
     },
     "execution_count": 43,
     "metadata": {},
     "output_type": "execute_result"
    }
   ],
   "source": [
    "ubicacion_estaciones.head()"
   ]
  },
  {
   "cell_type": "code",
   "execution_count": 44,
   "metadata": {
    "executionInfo": {
     "elapsed": 1923,
     "status": "ok",
     "timestamp": 1637622308030,
     "user": {
      "displayName": "Gaston Barisani",
      "photoUrl": "https://lh3.googleusercontent.com/a-/AOh14GjPiAZd2ATBrZfu2xlPlnBc-Riz1L3YuKMUrQwpfw=s64",
      "userId": "12488591318735436684"
     },
     "user_tz": 180
    },
    "id": "G1H8tDwazdm7"
   },
   "outputs": [],
   "source": [
    "#INCORPORO LONGITUD Y LATITUD A ESTACIONES DE INICIO DE VIAJE\n",
    "df = recorridos_2020_2021.merge(ubicacion_estaciones, left_on=\"Estación de inicio\", right_on=\"nombre\")"
   ]
  },
  {
   "cell_type": "code",
   "execution_count": 45,
   "metadata": {
    "executionInfo": {
     "elapsed": 591,
     "status": "ok",
     "timestamp": 1637622308615,
     "user": {
      "displayName": "Gaston Barisani",
      "photoUrl": "https://lh3.googleusercontent.com/a-/AOh14GjPiAZd2ATBrZfu2xlPlnBc-Riz1L3YuKMUrQwpfw=s64",
      "userId": "12488591318735436684"
     },
     "user_tz": 180
    },
    "id": "BFz1TpsRkFI7"
   },
   "outputs": [],
   "source": [
    "#CAMBIO NOMBRES\n",
    "df = df.rename(columns={\"Longitud\": \"Longitud inicio\", \"Latitud\": \"Latitud inicio\"})"
   ]
  },
  {
   "cell_type": "code",
   "execution_count": 46,
   "metadata": {
    "colab": {
     "base_uri": "https://localhost:8080/",
     "height": 608
    },
    "executionInfo": {
     "elapsed": 752,
     "status": "ok",
     "timestamp": 1637622309355,
     "user": {
      "displayName": "Gaston Barisani",
      "photoUrl": "https://lh3.googleusercontent.com/a-/AOh14GjPiAZd2ATBrZfu2xlPlnBc-Riz1L3YuKMUrQwpfw=s64",
      "userId": "12488591318735436684"
     },
     "user_tz": 180
    },
    "id": "0s5ikkpfmtJJ",
    "outputId": "ebe0d0c1-7017-4d2f-9cfd-4d8aec966af9"
   },
   "outputs": [
    {
     "data": {
      "text/html": [
       "<div>\n",
       "<style scoped>\n",
       "    .dataframe tbody tr th:only-of-type {\n",
       "        vertical-align: middle;\n",
       "    }\n",
       "\n",
       "    .dataframe tbody tr th {\n",
       "        vertical-align: top;\n",
       "    }\n",
       "\n",
       "    .dataframe thead th {\n",
       "        text-align: right;\n",
       "    }\n",
       "</style>\n",
       "<table border=\"1\" class=\"dataframe\">\n",
       "  <thead>\n",
       "    <tr style=\"text-align: right;\">\n",
       "      <th></th>\n",
       "      <th>Duración</th>\n",
       "      <th>Fecha de inicio</th>\n",
       "      <th>Estación de inicio</th>\n",
       "      <th>Fecha de fin</th>\n",
       "      <th>Estación de fin</th>\n",
       "      <th>ID ciclista</th>\n",
       "      <th>Año</th>\n",
       "      <th>Mes</th>\n",
       "      <th>Día del mes</th>\n",
       "      <th>Día de la semana</th>\n",
       "      <th>Hora</th>\n",
       "      <th>Recorrido</th>\n",
       "      <th>nombre</th>\n",
       "      <th>Longitud inicio</th>\n",
       "      <th>Latitud inicio</th>\n",
       "    </tr>\n",
       "  </thead>\n",
       "  <tbody>\n",
       "    <tr>\n",
       "      <th>0</th>\n",
       "      <td>14.7</td>\n",
       "      <td>2020-12-31 23:54:22</td>\n",
       "      <td>HOSPITAL ALEMÁN</td>\n",
       "      <td>2021-01-01 00:09:04</td>\n",
       "      <td>ARMENIA Y GORRITI</td>\n",
       "      <td>666202</td>\n",
       "      <td>2020</td>\n",
       "      <td>12</td>\n",
       "      <td>31</td>\n",
       "      <td>3</td>\n",
       "      <td>23</td>\n",
       "      <td>HOSPITAL ALEMÁN - ARMENIA Y GORRITI</td>\n",
       "      <td>HOSPITAL ALEMÁN</td>\n",
       "      <td>-58.4025864239259</td>\n",
       "      <td>-34.5921712763202</td>\n",
       "    </tr>\n",
       "    <tr>\n",
       "      <th>1</th>\n",
       "      <td>14.9</td>\n",
       "      <td>2020-12-29 12:39:18</td>\n",
       "      <td>HOSPITAL ALEMÁN</td>\n",
       "      <td>2020-12-29 12:54:12</td>\n",
       "      <td>ARMENIA Y GORRITI</td>\n",
       "      <td>332689</td>\n",
       "      <td>2020</td>\n",
       "      <td>12</td>\n",
       "      <td>29</td>\n",
       "      <td>1</td>\n",
       "      <td>12</td>\n",
       "      <td>HOSPITAL ALEMÁN - ARMENIA Y GORRITI</td>\n",
       "      <td>HOSPITAL ALEMÁN</td>\n",
       "      <td>-58.4025864239259</td>\n",
       "      <td>-34.5921712763202</td>\n",
       "    </tr>\n",
       "    <tr>\n",
       "      <th>2</th>\n",
       "      <td>22.7</td>\n",
       "      <td>2020-12-21 21:21:38</td>\n",
       "      <td>HOSPITAL ALEMÁN</td>\n",
       "      <td>2020-12-21 21:44:19</td>\n",
       "      <td>ARMENIA Y GORRITI</td>\n",
       "      <td>57949</td>\n",
       "      <td>2020</td>\n",
       "      <td>12</td>\n",
       "      <td>21</td>\n",
       "      <td>0</td>\n",
       "      <td>21</td>\n",
       "      <td>HOSPITAL ALEMÁN - ARMENIA Y GORRITI</td>\n",
       "      <td>HOSPITAL ALEMÁN</td>\n",
       "      <td>-58.4025864239259</td>\n",
       "      <td>-34.5921712763202</td>\n",
       "    </tr>\n",
       "    <tr>\n",
       "      <th>3</th>\n",
       "      <td>16.8</td>\n",
       "      <td>2020-12-20 21:58:19</td>\n",
       "      <td>HOSPITAL ALEMÁN</td>\n",
       "      <td>2020-12-20 22:15:09</td>\n",
       "      <td>ARMENIA Y GORRITI</td>\n",
       "      <td>454846</td>\n",
       "      <td>2020</td>\n",
       "      <td>12</td>\n",
       "      <td>20</td>\n",
       "      <td>6</td>\n",
       "      <td>21</td>\n",
       "      <td>HOSPITAL ALEMÁN - ARMENIA Y GORRITI</td>\n",
       "      <td>HOSPITAL ALEMÁN</td>\n",
       "      <td>-58.4025864239259</td>\n",
       "      <td>-34.5921712763202</td>\n",
       "    </tr>\n",
       "    <tr>\n",
       "      <th>4</th>\n",
       "      <td>24.8</td>\n",
       "      <td>2020-12-20 13:32:53</td>\n",
       "      <td>HOSPITAL ALEMÁN</td>\n",
       "      <td>2020-12-20 13:57:43</td>\n",
       "      <td>ARMENIA Y GORRITI</td>\n",
       "      <td>690975</td>\n",
       "      <td>2020</td>\n",
       "      <td>12</td>\n",
       "      <td>20</td>\n",
       "      <td>6</td>\n",
       "      <td>13</td>\n",
       "      <td>HOSPITAL ALEMÁN - ARMENIA Y GORRITI</td>\n",
       "      <td>HOSPITAL ALEMÁN</td>\n",
       "      <td>-58.4025864239259</td>\n",
       "      <td>-34.5921712763202</td>\n",
       "    </tr>\n",
       "  </tbody>\n",
       "</table>\n",
       "</div>"
      ],
      "text/plain": [
       "   Duración     Fecha de inicio  ...    Longitud inicio     Latitud inicio\n",
       "0      14.7 2020-12-31 23:54:22  ...  -58.4025864239259  -34.5921712763202\n",
       "1      14.9 2020-12-29 12:39:18  ...  -58.4025864239259  -34.5921712763202\n",
       "2      22.7 2020-12-21 21:21:38  ...  -58.4025864239259  -34.5921712763202\n",
       "3      16.8 2020-12-20 21:58:19  ...  -58.4025864239259  -34.5921712763202\n",
       "4      24.8 2020-12-20 13:32:53  ...  -58.4025864239259  -34.5921712763202\n",
       "\n",
       "[5 rows x 15 columns]"
      ]
     },
     "execution_count": 46,
     "metadata": {},
     "output_type": "execute_result"
    }
   ],
   "source": [
    "df.head()"
   ]
  },
  {
   "cell_type": "code",
   "execution_count": 47,
   "metadata": {
    "executionInfo": {
     "elapsed": 1928,
     "status": "ok",
     "timestamp": 1637622311643,
     "user": {
      "displayName": "Gaston Barisani",
      "photoUrl": "https://lh3.googleusercontent.com/a-/AOh14GjPiAZd2ATBrZfu2xlPlnBc-Riz1L3YuKMUrQwpfw=s64",
      "userId": "12488591318735436684"
     },
     "user_tz": 180
    },
    "id": "4Ae-SjvclgN5"
   },
   "outputs": [],
   "source": [
    "#INCORPORO LONGITUD Y LATITUD A ESTACIONES DE FIN DE VIAJE\n",
    "df = df.merge(ubicacion_estaciones, left_on=\"Estación de fin\", right_on=\"nombre\")"
   ]
  },
  {
   "cell_type": "code",
   "execution_count": 48,
   "metadata": {
    "executionInfo": {
     "elapsed": 729,
     "status": "ok",
     "timestamp": 1637622312368,
     "user": {
      "displayName": "Gaston Barisani",
      "photoUrl": "https://lh3.googleusercontent.com/a-/AOh14GjPiAZd2ATBrZfu2xlPlnBc-Riz1L3YuKMUrQwpfw=s64",
      "userId": "12488591318735436684"
     },
     "user_tz": 180
    },
    "id": "ELIIf4rBl-xn"
   },
   "outputs": [],
   "source": [
    "#CAMBIO NOMBRES\n",
    "df = df.rename(columns={\"Longitud\": \"Longitud fin\", \"Latitud\": \"Latitud fin\"})"
   ]
  },
  {
   "cell_type": "code",
   "execution_count": 49,
   "metadata": {
    "executionInfo": {
     "elapsed": 2447,
     "status": "ok",
     "timestamp": 1637622314810,
     "user": {
      "displayName": "Gaston Barisani",
      "photoUrl": "https://lh3.googleusercontent.com/a-/AOh14GjPiAZd2ATBrZfu2xlPlnBc-Riz1L3YuKMUrQwpfw=s64",
      "userId": "12488591318735436684"
     },
     "user_tz": 180
    },
    "id": "TyiCxrAbnpCD"
   },
   "outputs": [],
   "source": [
    "#BORRO COLUMNAS INNECESARIAS\n",
    "df = df.drop([\"nombre_x\", \"nombre_y\", \"ID ciclista\"], axis=1)"
   ]
  },
  {
   "cell_type": "code",
   "execution_count": 50,
   "metadata": {
    "colab": {
     "base_uri": "https://localhost:8080/",
     "height": 608
    },
    "executionInfo": {
     "elapsed": 33,
     "status": "ok",
     "timestamp": 1637622314815,
     "user": {
      "displayName": "Gaston Barisani",
      "photoUrl": "https://lh3.googleusercontent.com/a-/AOh14GjPiAZd2ATBrZfu2xlPlnBc-Riz1L3YuKMUrQwpfw=s64",
      "userId": "12488591318735436684"
     },
     "user_tz": 180
    },
    "id": "FG7A5BKfoUbZ",
    "outputId": "90d9716f-349b-443b-9b56-e978d517efe9"
   },
   "outputs": [
    {
     "data": {
      "text/html": [
       "<div>\n",
       "<style scoped>\n",
       "    .dataframe tbody tr th:only-of-type {\n",
       "        vertical-align: middle;\n",
       "    }\n",
       "\n",
       "    .dataframe tbody tr th {\n",
       "        vertical-align: top;\n",
       "    }\n",
       "\n",
       "    .dataframe thead th {\n",
       "        text-align: right;\n",
       "    }\n",
       "</style>\n",
       "<table border=\"1\" class=\"dataframe\">\n",
       "  <thead>\n",
       "    <tr style=\"text-align: right;\">\n",
       "      <th></th>\n",
       "      <th>Duración</th>\n",
       "      <th>Fecha de inicio</th>\n",
       "      <th>Estación de inicio</th>\n",
       "      <th>Fecha de fin</th>\n",
       "      <th>Estación de fin</th>\n",
       "      <th>Año</th>\n",
       "      <th>Mes</th>\n",
       "      <th>Día del mes</th>\n",
       "      <th>Día de la semana</th>\n",
       "      <th>Hora</th>\n",
       "      <th>Recorrido</th>\n",
       "      <th>Longitud inicio</th>\n",
       "      <th>Latitud inicio</th>\n",
       "      <th>Longitud fin</th>\n",
       "      <th>Latitud fin</th>\n",
       "    </tr>\n",
       "  </thead>\n",
       "  <tbody>\n",
       "    <tr>\n",
       "      <th>0</th>\n",
       "      <td>14.7</td>\n",
       "      <td>2020-12-31 23:54:22</td>\n",
       "      <td>HOSPITAL ALEMÁN</td>\n",
       "      <td>2021-01-01 00:09:04</td>\n",
       "      <td>ARMENIA Y GORRITI</td>\n",
       "      <td>2020</td>\n",
       "      <td>12</td>\n",
       "      <td>31</td>\n",
       "      <td>3</td>\n",
       "      <td>23</td>\n",
       "      <td>HOSPITAL ALEMÁN - ARMENIA Y GORRITI</td>\n",
       "      <td>-58.4025864239259</td>\n",
       "      <td>-34.5921712763202</td>\n",
       "      <td>-58.4289721244116</td>\n",
       "      <td>-34.5905413100845</td>\n",
       "    </tr>\n",
       "    <tr>\n",
       "      <th>1</th>\n",
       "      <td>14.9</td>\n",
       "      <td>2020-12-29 12:39:18</td>\n",
       "      <td>HOSPITAL ALEMÁN</td>\n",
       "      <td>2020-12-29 12:54:12</td>\n",
       "      <td>ARMENIA Y GORRITI</td>\n",
       "      <td>2020</td>\n",
       "      <td>12</td>\n",
       "      <td>29</td>\n",
       "      <td>1</td>\n",
       "      <td>12</td>\n",
       "      <td>HOSPITAL ALEMÁN - ARMENIA Y GORRITI</td>\n",
       "      <td>-58.4025864239259</td>\n",
       "      <td>-34.5921712763202</td>\n",
       "      <td>-58.4289721244116</td>\n",
       "      <td>-34.5905413100845</td>\n",
       "    </tr>\n",
       "    <tr>\n",
       "      <th>2</th>\n",
       "      <td>22.7</td>\n",
       "      <td>2020-12-21 21:21:38</td>\n",
       "      <td>HOSPITAL ALEMÁN</td>\n",
       "      <td>2020-12-21 21:44:19</td>\n",
       "      <td>ARMENIA Y GORRITI</td>\n",
       "      <td>2020</td>\n",
       "      <td>12</td>\n",
       "      <td>21</td>\n",
       "      <td>0</td>\n",
       "      <td>21</td>\n",
       "      <td>HOSPITAL ALEMÁN - ARMENIA Y GORRITI</td>\n",
       "      <td>-58.4025864239259</td>\n",
       "      <td>-34.5921712763202</td>\n",
       "      <td>-58.4289721244116</td>\n",
       "      <td>-34.5905413100845</td>\n",
       "    </tr>\n",
       "    <tr>\n",
       "      <th>3</th>\n",
       "      <td>16.8</td>\n",
       "      <td>2020-12-20 21:58:19</td>\n",
       "      <td>HOSPITAL ALEMÁN</td>\n",
       "      <td>2020-12-20 22:15:09</td>\n",
       "      <td>ARMENIA Y GORRITI</td>\n",
       "      <td>2020</td>\n",
       "      <td>12</td>\n",
       "      <td>20</td>\n",
       "      <td>6</td>\n",
       "      <td>21</td>\n",
       "      <td>HOSPITAL ALEMÁN - ARMENIA Y GORRITI</td>\n",
       "      <td>-58.4025864239259</td>\n",
       "      <td>-34.5921712763202</td>\n",
       "      <td>-58.4289721244116</td>\n",
       "      <td>-34.5905413100845</td>\n",
       "    </tr>\n",
       "    <tr>\n",
       "      <th>4</th>\n",
       "      <td>24.8</td>\n",
       "      <td>2020-12-20 13:32:53</td>\n",
       "      <td>HOSPITAL ALEMÁN</td>\n",
       "      <td>2020-12-20 13:57:43</td>\n",
       "      <td>ARMENIA Y GORRITI</td>\n",
       "      <td>2020</td>\n",
       "      <td>12</td>\n",
       "      <td>20</td>\n",
       "      <td>6</td>\n",
       "      <td>13</td>\n",
       "      <td>HOSPITAL ALEMÁN - ARMENIA Y GORRITI</td>\n",
       "      <td>-58.4025864239259</td>\n",
       "      <td>-34.5921712763202</td>\n",
       "      <td>-58.4289721244116</td>\n",
       "      <td>-34.5905413100845</td>\n",
       "    </tr>\n",
       "  </tbody>\n",
       "</table>\n",
       "</div>"
      ],
      "text/plain": [
       "   Duración     Fecha de inicio  ...       Longitud fin        Latitud fin\n",
       "0      14.7 2020-12-31 23:54:22  ...  -58.4289721244116  -34.5905413100845\n",
       "1      14.9 2020-12-29 12:39:18  ...  -58.4289721244116  -34.5905413100845\n",
       "2      22.7 2020-12-21 21:21:38  ...  -58.4289721244116  -34.5905413100845\n",
       "3      16.8 2020-12-20 21:58:19  ...  -58.4289721244116  -34.5905413100845\n",
       "4      24.8 2020-12-20 13:32:53  ...  -58.4289721244116  -34.5905413100845\n",
       "\n",
       "[5 rows x 15 columns]"
      ]
     },
     "execution_count": 50,
     "metadata": {},
     "output_type": "execute_result"
    }
   ],
   "source": [
    "df.head()"
   ]
  },
  {
   "cell_type": "code",
   "execution_count": 51,
   "metadata": {
    "colab": {
     "base_uri": "https://localhost:8080/"
    },
    "executionInfo": {
     "elapsed": 2233,
     "status": "ok",
     "timestamp": 1637622317023,
     "user": {
      "displayName": "Gaston Barisani",
      "photoUrl": "https://lh3.googleusercontent.com/a-/AOh14GjPiAZd2ATBrZfu2xlPlnBc-Riz1L3YuKMUrQwpfw=s64",
      "userId": "12488591318735436684"
     },
     "user_tz": 180
    },
    "id": "HNOnwU_poX1o",
    "outputId": "37fe0ceb-cb20-4b6a-96ca-81b31b04571e"
   },
   "outputs": [
    {
     "data": {
      "text/plain": [
       "Duración              0\n",
       "Fecha de inicio       0\n",
       "Estación de inicio    0\n",
       "Fecha de fin          0\n",
       "Estación de fin       0\n",
       "Año                   0\n",
       "Mes                   0\n",
       "Día del mes           0\n",
       "Día de la semana      0\n",
       "Hora                  0\n",
       "Recorrido             0\n",
       "Longitud inicio       0\n",
       "Latitud inicio        0\n",
       "Longitud fin          0\n",
       "Latitud fin           0\n",
       "dtype: int64"
      ]
     },
     "execution_count": 51,
     "metadata": {},
     "output_type": "execute_result"
    }
   ],
   "source": [
    "df.isnull().sum() #no quedaron nulls despues del merge"
   ]
  },
  {
   "cell_type": "code",
   "execution_count": 52,
   "metadata": {
    "executionInfo": {
     "elapsed": 3725,
     "status": "ok",
     "timestamp": 1637622320735,
     "user": {
      "displayName": "Gaston Barisani",
      "photoUrl": "https://lh3.googleusercontent.com/a-/AOh14GjPiAZd2ATBrZfu2xlPlnBc-Riz1L3YuKMUrQwpfw=s64",
      "userId": "12488591318735436684"
     },
     "user_tz": 180
    },
    "id": "LaqXqAKoLfsJ"
   },
   "outputs": [],
   "source": [
    "#PASO COORDENADAS A TIPO FLOAT\n",
    "df['Latitud inicio'] = df['Latitud inicio'].astype(\"float\")\n",
    "df['Latitud fin'] = df['Latitud fin'].astype(\"float\")\n",
    "df['Longitud inicio'] = df['Longitud inicio'].astype(\"float\")\n",
    "df['Longitud fin'] = df['Longitud fin'].astype(\"float\")"
   ]
  },
  {
   "cell_type": "code",
   "execution_count": 53,
   "metadata": {
    "executionInfo": {
     "elapsed": 549,
     "status": "ok",
     "timestamp": 1637622321269,
     "user": {
      "displayName": "Gaston Barisani",
      "photoUrl": "https://lh3.googleusercontent.com/a-/AOh14GjPiAZd2ATBrZfu2xlPlnBc-Riz1L3YuKMUrQwpfw=s64",
      "userId": "12488591318735436684"
     },
     "user_tz": 180
    },
    "id": "7aQb2UE5Oh58"
   },
   "outputs": [],
   "source": [
    "#CALCULO LA DISTANCIA ENTRE INICIO Y FIN CON LAS COORDENADAS\n",
    "#obtengo coordenadas\n",
    "lat1 = df['Latitud inicio']\n",
    "lat2 = df['Latitud fin']\n",
    "long1 = df['Longitud inicio']\n",
    "long2 = df['Longitud fin']\n",
    "radio = 6371\n",
    "\n",
    "#paso a radianes\n",
    "lat1rad = np.radians(90-lat1)\n",
    "lat2rad = np.radians(90-lat2)\n",
    "longrad = np.radians(long1 - long2)\n",
    "\n",
    "#calculo senos y cosenos\n",
    "cos_lat1 = np.cos(lat1rad)\n",
    "cos_lat2 = np.cos(lat2rad)\n",
    "sen_lat1 = np.sin(lat1rad)\n",
    "sen_lat2 = np.sin(lat2rad)\n",
    "cos_long = np.cos(longrad)\n",
    "\n",
    "#aplico formula\n",
    "c = cos_lat1 * cos_lat2 + sen_lat1 * sen_lat2 * cos_long\n",
    "acos = np.arccos(c)\n",
    "distancia = acos * radio\n",
    "\n",
    "#agrego columna en df y redondedo a 2 decimales\n",
    "df[\"Distancia recorrido\"] = distancia\n",
    "df[\"Distancia recorrido\"] = df[\"Distancia recorrido\"].round(2)"
   ]
  },
  {
   "cell_type": "code",
   "execution_count": 54,
   "metadata": {
    "colab": {
     "base_uri": "https://localhost:8080/",
     "height": 608
    },
    "executionInfo": {
     "elapsed": 23,
     "status": "ok",
     "timestamp": 1637622321273,
     "user": {
      "displayName": "Gaston Barisani",
      "photoUrl": "https://lh3.googleusercontent.com/a-/AOh14GjPiAZd2ATBrZfu2xlPlnBc-Riz1L3YuKMUrQwpfw=s64",
      "userId": "12488591318735436684"
     },
     "user_tz": 180
    },
    "id": "ozfg_SlTKUxA",
    "outputId": "7a675a46-16de-4042-8d13-ff459bb3874a"
   },
   "outputs": [
    {
     "data": {
      "text/html": [
       "<div>\n",
       "<style scoped>\n",
       "    .dataframe tbody tr th:only-of-type {\n",
       "        vertical-align: middle;\n",
       "    }\n",
       "\n",
       "    .dataframe tbody tr th {\n",
       "        vertical-align: top;\n",
       "    }\n",
       "\n",
       "    .dataframe thead th {\n",
       "        text-align: right;\n",
       "    }\n",
       "</style>\n",
       "<table border=\"1\" class=\"dataframe\">\n",
       "  <thead>\n",
       "    <tr style=\"text-align: right;\">\n",
       "      <th></th>\n",
       "      <th>Duración</th>\n",
       "      <th>Fecha de inicio</th>\n",
       "      <th>Estación de inicio</th>\n",
       "      <th>Fecha de fin</th>\n",
       "      <th>Estación de fin</th>\n",
       "      <th>Año</th>\n",
       "      <th>Mes</th>\n",
       "      <th>Día del mes</th>\n",
       "      <th>Día de la semana</th>\n",
       "      <th>Hora</th>\n",
       "      <th>Recorrido</th>\n",
       "      <th>Longitud inicio</th>\n",
       "      <th>Latitud inicio</th>\n",
       "      <th>Longitud fin</th>\n",
       "      <th>Latitud fin</th>\n",
       "      <th>Distancia recorrido</th>\n",
       "    </tr>\n",
       "  </thead>\n",
       "  <tbody>\n",
       "    <tr>\n",
       "      <th>0</th>\n",
       "      <td>14.7</td>\n",
       "      <td>2020-12-31 23:54:22</td>\n",
       "      <td>HOSPITAL ALEMÁN</td>\n",
       "      <td>2021-01-01 00:09:04</td>\n",
       "      <td>ARMENIA Y GORRITI</td>\n",
       "      <td>2020</td>\n",
       "      <td>12</td>\n",
       "      <td>31</td>\n",
       "      <td>3</td>\n",
       "      <td>23</td>\n",
       "      <td>HOSPITAL ALEMÁN - ARMENIA Y GORRITI</td>\n",
       "      <td>-58.402586</td>\n",
       "      <td>-34.592171</td>\n",
       "      <td>-58.428972</td>\n",
       "      <td>-34.590541</td>\n",
       "      <td>2.42</td>\n",
       "    </tr>\n",
       "    <tr>\n",
       "      <th>1</th>\n",
       "      <td>14.9</td>\n",
       "      <td>2020-12-29 12:39:18</td>\n",
       "      <td>HOSPITAL ALEMÁN</td>\n",
       "      <td>2020-12-29 12:54:12</td>\n",
       "      <td>ARMENIA Y GORRITI</td>\n",
       "      <td>2020</td>\n",
       "      <td>12</td>\n",
       "      <td>29</td>\n",
       "      <td>1</td>\n",
       "      <td>12</td>\n",
       "      <td>HOSPITAL ALEMÁN - ARMENIA Y GORRITI</td>\n",
       "      <td>-58.402586</td>\n",
       "      <td>-34.592171</td>\n",
       "      <td>-58.428972</td>\n",
       "      <td>-34.590541</td>\n",
       "      <td>2.42</td>\n",
       "    </tr>\n",
       "    <tr>\n",
       "      <th>2</th>\n",
       "      <td>22.7</td>\n",
       "      <td>2020-12-21 21:21:38</td>\n",
       "      <td>HOSPITAL ALEMÁN</td>\n",
       "      <td>2020-12-21 21:44:19</td>\n",
       "      <td>ARMENIA Y GORRITI</td>\n",
       "      <td>2020</td>\n",
       "      <td>12</td>\n",
       "      <td>21</td>\n",
       "      <td>0</td>\n",
       "      <td>21</td>\n",
       "      <td>HOSPITAL ALEMÁN - ARMENIA Y GORRITI</td>\n",
       "      <td>-58.402586</td>\n",
       "      <td>-34.592171</td>\n",
       "      <td>-58.428972</td>\n",
       "      <td>-34.590541</td>\n",
       "      <td>2.42</td>\n",
       "    </tr>\n",
       "    <tr>\n",
       "      <th>3</th>\n",
       "      <td>16.8</td>\n",
       "      <td>2020-12-20 21:58:19</td>\n",
       "      <td>HOSPITAL ALEMÁN</td>\n",
       "      <td>2020-12-20 22:15:09</td>\n",
       "      <td>ARMENIA Y GORRITI</td>\n",
       "      <td>2020</td>\n",
       "      <td>12</td>\n",
       "      <td>20</td>\n",
       "      <td>6</td>\n",
       "      <td>21</td>\n",
       "      <td>HOSPITAL ALEMÁN - ARMENIA Y GORRITI</td>\n",
       "      <td>-58.402586</td>\n",
       "      <td>-34.592171</td>\n",
       "      <td>-58.428972</td>\n",
       "      <td>-34.590541</td>\n",
       "      <td>2.42</td>\n",
       "    </tr>\n",
       "    <tr>\n",
       "      <th>4</th>\n",
       "      <td>24.8</td>\n",
       "      <td>2020-12-20 13:32:53</td>\n",
       "      <td>HOSPITAL ALEMÁN</td>\n",
       "      <td>2020-12-20 13:57:43</td>\n",
       "      <td>ARMENIA Y GORRITI</td>\n",
       "      <td>2020</td>\n",
       "      <td>12</td>\n",
       "      <td>20</td>\n",
       "      <td>6</td>\n",
       "      <td>13</td>\n",
       "      <td>HOSPITAL ALEMÁN - ARMENIA Y GORRITI</td>\n",
       "      <td>-58.402586</td>\n",
       "      <td>-34.592171</td>\n",
       "      <td>-58.428972</td>\n",
       "      <td>-34.590541</td>\n",
       "      <td>2.42</td>\n",
       "    </tr>\n",
       "  </tbody>\n",
       "</table>\n",
       "</div>"
      ],
      "text/plain": [
       "   Duración     Fecha de inicio  ... Latitud fin Distancia recorrido\n",
       "0      14.7 2020-12-31 23:54:22  ...  -34.590541                2.42\n",
       "1      14.9 2020-12-29 12:39:18  ...  -34.590541                2.42\n",
       "2      22.7 2020-12-21 21:21:38  ...  -34.590541                2.42\n",
       "3      16.8 2020-12-20 21:58:19  ...  -34.590541                2.42\n",
       "4      24.8 2020-12-20 13:32:53  ...  -34.590541                2.42\n",
       "\n",
       "[5 rows x 16 columns]"
      ]
     },
     "execution_count": 54,
     "metadata": {},
     "output_type": "execute_result"
    }
   ],
   "source": [
    "df.head()"
   ]
  },
  {
   "cell_type": "markdown",
   "metadata": {
    "id": "7I5A3hxX0QwC"
   },
   "source": [
    "# Aprendizaje supervisado: Regresion lineal "
   ]
  },
  {
   "cell_type": "code",
   "execution_count": 79,
   "metadata": {
    "executionInfo": {
     "elapsed": 655,
     "status": "ok",
     "timestamp": 1637622444585,
     "user": {
      "displayName": "Gaston Barisani",
      "photoUrl": "https://lh3.googleusercontent.com/a-/AOh14GjPiAZd2ATBrZfu2xlPlnBc-Riz1L3YuKMUrQwpfw=s64",
      "userId": "12488591318735436684"
     },
     "user_tz": 180
    },
    "id": "B58SVWVk0Px_"
   },
   "outputs": [],
   "source": [
    "from sklearn import ensemble, tree, linear_model\n",
    "from sklearn.model_selection import train_test_split, cross_val_score\n",
    "from sklearn.metrics import r2_score, mean_squared_error\n",
    "from sklearn.utils import shuffle\n",
    "from sklearn.model_selection import cross_val_score, train_test_split\n",
    "from sklearn.preprocessing import StandardScaler\n",
    "from sklearn import preprocessing\n",
    "from sklearn.preprocessing import LabelEncoder\n",
    "from sklearn.linear_model import LinearRegression, RidgeCV, LassoCV, ElasticNetCV\n",
    "from sklearn.svm import SVR, LinearSVR\n",
    "from sklearn.neighbors import KNeighborsRegressor\n",
    "from sklearn.metrics import mean_squared_error, make_scorer\n",
    "from sklearn.model_selection import GridSearchCV\n",
    "from sklearn.ensemble import RandomForestRegressor\n",
    "from sklearn.pipeline import make_pipeline"
   ]
  },
  {
   "cell_type": "code",
   "execution_count": 80,
   "metadata": {
    "executionInfo": {
     "elapsed": 16,
     "status": "ok",
     "timestamp": 1637622444586,
     "user": {
      "displayName": "Gaston Barisani",
      "photoUrl": "https://lh3.googleusercontent.com/a-/AOh14GjPiAZd2ATBrZfu2xlPlnBc-Riz1L3YuKMUrQwpfw=s64",
      "userId": "12488591318735436684"
     },
     "user_tz": 180
    },
    "id": "rXZUVExHJvN1"
   },
   "outputs": [],
   "source": [
    "y = np.array(df_2[[\"Duración\"]])"
   ]
  },
  {
   "cell_type": "code",
   "execution_count": 81,
   "metadata": {
    "executionInfo": {
     "elapsed": 18,
     "status": "ok",
     "timestamp": 1637622444588,
     "user": {
      "displayName": "Gaston Barisani",
      "photoUrl": "https://lh3.googleusercontent.com/a-/AOh14GjPiAZd2ATBrZfu2xlPlnBc-Riz1L3YuKMUrQwpfw=s64",
      "userId": "12488591318735436684"
     },
     "user_tz": 180
    },
    "id": "3DswzbbRyACW"
   },
   "outputs": [],
   "source": [
    "x = df_2.drop((['Duración', \"Fecha de inicio\", \"Fecha de fin\", \"Año\", \"Recorrido\", \"Velocidad\", 'Longitud inicio', \"Latitud inicio\", \"Longitud fin\", \"Latitud fin\", \"Estación de inicio\", \"Estación de fin\", \"Día de la semana\", \"Día del mes\"]), axis=1)"
   ]
  },
  {
   "cell_type": "code",
   "execution_count": 82,
   "metadata": {
    "colab": {
     "base_uri": "https://localhost:8080/",
     "height": 206
    },
    "executionInfo": {
     "elapsed": 19,
     "status": "ok",
     "timestamp": 1637622444590,
     "user": {
      "displayName": "Gaston Barisani",
      "photoUrl": "https://lh3.googleusercontent.com/a-/AOh14GjPiAZd2ATBrZfu2xlPlnBc-Riz1L3YuKMUrQwpfw=s64",
      "userId": "12488591318735436684"
     },
     "user_tz": 180
    },
    "id": "6WbveSyLzBXG",
    "outputId": "12b6cdc3-2e82-44c4-b0ca-de1d79ab4730"
   },
   "outputs": [
    {
     "data": {
      "text/html": [
       "<div>\n",
       "<style scoped>\n",
       "    .dataframe tbody tr th:only-of-type {\n",
       "        vertical-align: middle;\n",
       "    }\n",
       "\n",
       "    .dataframe tbody tr th {\n",
       "        vertical-align: top;\n",
       "    }\n",
       "\n",
       "    .dataframe thead th {\n",
       "        text-align: right;\n",
       "    }\n",
       "</style>\n",
       "<table border=\"1\" class=\"dataframe\">\n",
       "  <thead>\n",
       "    <tr style=\"text-align: right;\">\n",
       "      <th></th>\n",
       "      <th>Mes</th>\n",
       "      <th>Hora</th>\n",
       "      <th>Distancia recorrido</th>\n",
       "    </tr>\n",
       "  </thead>\n",
       "  <tbody>\n",
       "    <tr>\n",
       "      <th>0</th>\n",
       "      <td>12.0</td>\n",
       "      <td>23.0</td>\n",
       "      <td>2.42</td>\n",
       "    </tr>\n",
       "    <tr>\n",
       "      <th>1</th>\n",
       "      <td>12.0</td>\n",
       "      <td>12.0</td>\n",
       "      <td>2.42</td>\n",
       "    </tr>\n",
       "    <tr>\n",
       "      <th>7</th>\n",
       "      <td>12.0</td>\n",
       "      <td>22.0</td>\n",
       "      <td>2.42</td>\n",
       "    </tr>\n",
       "    <tr>\n",
       "      <th>12</th>\n",
       "      <td>11.0</td>\n",
       "      <td>21.0</td>\n",
       "      <td>2.42</td>\n",
       "    </tr>\n",
       "    <tr>\n",
       "      <th>28</th>\n",
       "      <td>11.0</td>\n",
       "      <td>21.0</td>\n",
       "      <td>2.42</td>\n",
       "    </tr>\n",
       "  </tbody>\n",
       "</table>\n",
       "</div>"
      ],
      "text/plain": [
       "     Mes  Hora  Distancia recorrido\n",
       "0   12.0  23.0                 2.42\n",
       "1   12.0  12.0                 2.42\n",
       "7   12.0  22.0                 2.42\n",
       "12  11.0  21.0                 2.42\n",
       "28  11.0  21.0                 2.42"
      ]
     },
     "execution_count": 82,
     "metadata": {},
     "output_type": "execute_result"
    }
   ],
   "source": [
    "x.head()"
   ]
  },
  {
   "cell_type": "code",
   "execution_count": 83,
   "metadata": {
    "colab": {
     "base_uri": "https://localhost:8080/"
    },
    "executionInfo": {
     "elapsed": 20,
     "status": "ok",
     "timestamp": 1637622444592,
     "user": {
      "displayName": "Gaston Barisani",
      "photoUrl": "https://lh3.googleusercontent.com/a-/AOh14GjPiAZd2ATBrZfu2xlPlnBc-Riz1L3YuKMUrQwpfw=s64",
      "userId": "12488591318735436684"
     },
     "user_tz": 180
    },
    "id": "L_donSQAzbz1",
    "outputId": "d978a567-43f9-4a30-b367-0a2bcdc124c4"
   },
   "outputs": [
    {
     "data": {
      "text/plain": [
       "(978621, 3)"
      ]
     },
     "execution_count": 83,
     "metadata": {},
     "output_type": "execute_result"
    }
   ],
   "source": [
    "x.shape"
   ]
  },
  {
   "cell_type": "code",
   "execution_count": 84,
   "metadata": {
    "executionInfo": {
     "elapsed": 17,
     "status": "ok",
     "timestamp": 1637622444593,
     "user": {
      "displayName": "Gaston Barisani",
      "photoUrl": "https://lh3.googleusercontent.com/a-/AOh14GjPiAZd2ATBrZfu2xlPlnBc-Riz1L3YuKMUrQwpfw=s64",
      "userId": "12488591318735436684"
     },
     "user_tz": 180
    },
    "id": "DMb8yAbhz3Ad"
   },
   "outputs": [],
   "source": [
    "xtrain, xtest, ytrain, ytest = train_test_split(x, y, test_size=0.20, random_state=42)"
   ]
  },
  {
   "cell_type": "code",
   "execution_count": 85,
   "metadata": {
    "executionInfo": {
     "elapsed": 17,
     "status": "ok",
     "timestamp": 1637622444594,
     "user": {
      "displayName": "Gaston Barisani",
      "photoUrl": "https://lh3.googleusercontent.com/a-/AOh14GjPiAZd2ATBrZfu2xlPlnBc-Riz1L3YuKMUrQwpfw=s64",
      "userId": "12488591318735436684"
     },
     "user_tz": 180
    },
    "id": "9680xwae0e-1"
   },
   "outputs": [],
   "source": [
    "scaler = preprocessing.StandardScaler().fit(xtrain)\n",
    "xtrain_scal = scaler.transform(xtrain)\n",
    "xtest_scal = scaler.transform(xtest)"
   ]
  },
  {
   "cell_type": "markdown",
   "metadata": {
    "id": "MOK6tQwi18_j"
   },
   "source": [
    "# KNN Regresor\n"
   ]
  },
  {
   "cell_type": "code",
   "execution_count": 99,
   "metadata": {
    "executionInfo": {
     "elapsed": 379,
     "status": "ok",
     "timestamp": 1637625199967,
     "user": {
      "displayName": "Gaston Barisani",
      "photoUrl": "https://lh3.googleusercontent.com/a-/AOh14GjPiAZd2ATBrZfu2xlPlnBc-Riz1L3YuKMUrQwpfw=s64",
      "userId": "12488591318735436684"
     },
     "user_tz": 180
    },
    "id": "7n3_-Et20zTl"
   },
   "outputs": [],
   "source": [
    "knn = KNeighborsRegressor(weights = \"distance\")\n",
    "parameters_k = np.arange(20,31,5)\n",
    "parameters_knn = [{'n_neighbors': parameters_k}]\n",
    "regressor_knn = GridSearchCV(knn, parameters_knn, refit = True, cv=5, verbose=True)"
   ]
  },
  {
   "cell_type": "code",
   "execution_count": 100,
   "metadata": {
    "colab": {
     "base_uri": "https://localhost:8080/"
    },
    "executionInfo": {
     "elapsed": 95705,
     "status": "ok",
     "timestamp": 1637625297688,
     "user": {
      "displayName": "Gaston Barisani",
      "photoUrl": "https://lh3.googleusercontent.com/a-/AOh14GjPiAZd2ATBrZfu2xlPlnBc-Riz1L3YuKMUrQwpfw=s64",
      "userId": "12488591318735436684"
     },
     "user_tz": 180
    },
    "id": "7qpE657Q02Ll",
    "outputId": "4eff2817-9ba0-49da-cce4-32aebab11315"
   },
   "outputs": [
    {
     "name": "stdout",
     "output_type": "stream",
     "text": [
      "Fitting 5 folds for each of 3 candidates, totalling 15 fits\n"
     ]
    },
    {
     "data": {
      "text/plain": [
       "GridSearchCV(cv=5, estimator=KNeighborsRegressor(weights='distance'),\n",
       "             param_grid=[{'n_neighbors': array([20, 25, 30])}], verbose=True)"
      ]
     },
     "execution_count": 100,
     "metadata": {},
     "output_type": "execute_result"
    }
   ],
   "source": [
    "regressor_knn.fit(xtrain_scal, ytrain)"
   ]
  },
  {
   "cell_type": "code",
   "execution_count": 88,
   "metadata": {
    "colab": {
     "base_uri": "https://localhost:8080/"
    },
    "executionInfo": {
     "elapsed": 41,
     "status": "ok",
     "timestamp": 1637622521512,
     "user": {
      "displayName": "Gaston Barisani",
      "photoUrl": "https://lh3.googleusercontent.com/a-/AOh14GjPiAZd2ATBrZfu2xlPlnBc-Riz1L3YuKMUrQwpfw=s64",
      "userId": "12488591318735436684"
     },
     "user_tz": 180
    },
    "id": "NPg9nuvX03tl",
    "outputId": "6b35ffca-fd26-48f5-ca3f-aa5bf85e685f"
   },
   "outputs": [
    {
     "data": {
      "text/plain": [
       "{'n_neighbors': 30}"
      ]
     },
     "execution_count": 88,
     "metadata": {},
     "output_type": "execute_result"
    }
   ],
   "source": [
    "regressor_knn.best_params_"
   ]
  },
  {
   "cell_type": "code",
   "execution_count": 89,
   "metadata": {
    "colab": {
     "base_uri": "https://localhost:8080/"
    },
    "executionInfo": {
     "elapsed": 30,
     "status": "ok",
     "timestamp": 1637622521515,
     "user": {
      "displayName": "Gaston Barisani",
      "photoUrl": "https://lh3.googleusercontent.com/a-/AOh14GjPiAZd2ATBrZfu2xlPlnBc-Riz1L3YuKMUrQwpfw=s64",
      "userId": "12488591318735436684"
     },
     "user_tz": 180
    },
    "id": "LBukypZ01tA2",
    "outputId": "d64a9d88-c089-4ea6-f05f-86c72d6e5ff9"
   },
   "outputs": [
    {
     "data": {
      "text/plain": [
       "0.9227872695020434"
      ]
     },
     "execution_count": 89,
     "metadata": {},
     "output_type": "execute_result"
    }
   ],
   "source": [
    "regressor_knn.best_score_"
   ]
  },
  {
   "cell_type": "code",
   "execution_count": 90,
   "metadata": {
    "executionInfo": {
     "elapsed": 6515,
     "status": "ok",
     "timestamp": 1637622528010,
     "user": {
      "displayName": "Gaston Barisani",
      "photoUrl": "https://lh3.googleusercontent.com/a-/AOh14GjPiAZd2ATBrZfu2xlPlnBc-Riz1L3YuKMUrQwpfw=s64",
      "userId": "12488591318735436684"
     },
     "user_tz": 180
    },
    "id": "JuRMCl1J1vEt"
   },
   "outputs": [],
   "source": [
    "ypred1 = regressor_knn.predict(xtest_scal)"
   ]
  },
  {
   "cell_type": "code",
   "execution_count": 91,
   "metadata": {
    "colab": {
     "base_uri": "https://localhost:8080/"
    },
    "executionInfo": {
     "elapsed": 77,
     "status": "ok",
     "timestamp": 1637622528013,
     "user": {
      "displayName": "Gaston Barisani",
      "photoUrl": "https://lh3.googleusercontent.com/a-/AOh14GjPiAZd2ATBrZfu2xlPlnBc-Riz1L3YuKMUrQwpfw=s64",
      "userId": "12488591318735436684"
     },
     "user_tz": 180
    },
    "id": "56nQOHba1xIe",
    "outputId": "10e9d3eb-3eee-466e-a1d8-65caa57b1aef"
   },
   "outputs": [
    {
     "data": {
      "text/plain": [
       "2.392675967657892"
      ]
     },
     "execution_count": 91,
     "metadata": {},
     "output_type": "execute_result"
    }
   ],
   "source": [
    "np.sqrt(mean_squared_error(ytest, ypred1))"
   ]
  },
  {
   "cell_type": "code",
   "execution_count": 92,
   "metadata": {
    "colab": {
     "base_uri": "https://localhost:8080/",
     "height": 377
    },
    "executionInfo": {
     "elapsed": 2975,
     "status": "ok",
     "timestamp": 1637622530933,
     "user": {
      "displayName": "Gaston Barisani",
      "photoUrl": "https://lh3.googleusercontent.com/a-/AOh14GjPiAZd2ATBrZfu2xlPlnBc-Riz1L3YuKMUrQwpfw=s64",
      "userId": "12488591318735436684"
     },
     "user_tz": 180
    },
    "id": "APUCo48kApSI",
    "outputId": "93311447-7f92-42f1-80b9-8c005c6eb583"
   },
   "outputs": [
    {
     "data": {
      "text/plain": [
       "Text(0, 0.5, 'Densidad')"
      ]
     },
     "execution_count": 92,
     "metadata": {},
     "output_type": "execute_result"
    },
    {
     "data": {
      "image/png": "[encoded data removed]",
      "text/plain": [
       "<Figure size 720x360 with 1 Axes>"
      ]
     },
     "metadata": {
      "needs_background": "light"
     },
     "output_type": "display_data"
    }
   ],
   "source": [
    "plt.figure(figsize=(10,5))\n",
    "sns.distplot(ytest)\n",
    "sns.distplot(ypred1)\n",
    "plt.title(\"KNN regressor\", size=20)\n",
    "plt.xlabel(\"Duración del recorrido\", size=15)\n",
    "plt.ylabel(\"Densidad\", size=15)"
   ]
  },
  {
   "cell_type": "markdown",
   "metadata": {
    "id": "zbdLcmqW2SyO"
   },
   "source": [
    "# Linear SVR (Super vector regressor)"
   ]
  },
  {
   "cell_type": "code",
   "execution_count": 93,
   "metadata": {
    "executionInfo": {
     "elapsed": 23,
     "status": "ok",
     "timestamp": 1637622530936,
     "user": {
      "displayName": "Gaston Barisani",
      "photoUrl": "https://lh3.googleusercontent.com/a-/AOh14GjPiAZd2ATBrZfu2xlPlnBc-Riz1L3YuKMUrQwpfw=s64",
      "userId": "12488591318735436684"
     },
     "user_tz": 180
    },
    "id": "OenhgSLv6Xfj"
   },
   "outputs": [],
   "source": [
    "regressor_svr = make_pipeline(StandardScaler(), LinearSVR(random_state=0, tol=1e-5), verbose=True)"
   ]
  },
  {
   "cell_type": "code",
   "execution_count": 94,
   "metadata": {
    "colab": {
     "base_uri": "https://localhost:8080/"
    },
    "executionInfo": {
     "elapsed": 10209,
     "status": "ok",
     "timestamp": 1637622541124,
     "user": {
      "displayName": "Gaston Barisani",
      "photoUrl": "https://lh3.googleusercontent.com/a-/AOh14GjPiAZd2ATBrZfu2xlPlnBc-Riz1L3YuKMUrQwpfw=s64",
      "userId": "12488591318735436684"
     },
     "user_tz": 180
    },
    "id": "ZGjK21OH0JTO",
    "outputId": "e3564e0b-0072-4825-a23d-32d7a361eaeb"
   },
   "outputs": [
    {
     "name": "stdout",
     "output_type": "stream",
     "text": [
      "[Pipeline] .... (step 1 of 2) Processing standardscaler, total=   0.0s\n",
      "[Pipeline] ......... (step 2 of 2) Processing linearsvr, total=  10.2s\n"
     ]
    },
    {
     "data": {
      "text/plain": [
       "Pipeline(steps=[('standardscaler', StandardScaler()),\n",
       "                ('linearsvr', LinearSVR(random_state=0, tol=1e-05))],\n",
       "         verbose=True)"
      ]
     },
     "execution_count": 94,
     "metadata": {},
     "output_type": "execute_result"
    }
   ],
   "source": [
    "regressor_svr.fit(xtrain_scal, ytrain)"
   ]
  },
  {
   "cell_type": "code",
   "execution_count": 95,
   "metadata": {
    "colab": {
     "base_uri": "https://localhost:8080/"
    },
    "executionInfo": {
     "elapsed": 47,
     "status": "ok",
     "timestamp": 1637622541126,
     "user": {
      "displayName": "Gaston Barisani",
      "photoUrl": "https://lh3.googleusercontent.com/a-/AOh14GjPiAZd2ATBrZfu2xlPlnBc-Riz1L3YuKMUrQwpfw=s64",
      "userId": "12488591318735436684"
     },
     "user_tz": 180
    },
    "id": "TdPqeuEG2sj3",
    "outputId": "bf1280a8-89ed-4908-f4fe-03a7045eee67"
   },
   "outputs": [
    {
     "data": {
      "text/plain": [
       "0.924607395876417"
      ]
     },
     "execution_count": 95,
     "metadata": {},
     "output_type": "execute_result"
    }
   ],
   "source": [
    "regressor_svr.score(xtest_scal, ytest)"
   ]
  },
  {
   "cell_type": "code",
   "execution_count": 96,
   "metadata": {
    "executionInfo": {
     "elapsed": 32,
     "status": "ok",
     "timestamp": 1637622541129,
     "user": {
      "displayName": "Gaston Barisani",
      "photoUrl": "https://lh3.googleusercontent.com/a-/AOh14GjPiAZd2ATBrZfu2xlPlnBc-Riz1L3YuKMUrQwpfw=s64",
      "userId": "12488591318735436684"
     },
     "user_tz": 180
    },
    "id": "gOkgO3V90xmT"
   },
   "outputs": [],
   "source": [
    "ypred2 =regressor_svr.predict(xtest_scal)"
   ]
  },
  {
   "cell_type": "code",
   "execution_count": 97,
   "metadata": {
    "colab": {
     "base_uri": "https://localhost:8080/"
    },
    "executionInfo": {
     "elapsed": 31,
     "status": "ok",
     "timestamp": 1637622541131,
     "user": {
      "displayName": "Gaston Barisani",
      "photoUrl": "https://lh3.googleusercontent.com/a-/AOh14GjPiAZd2ATBrZfu2xlPlnBc-Riz1L3YuKMUrQwpfw=s64",
      "userId": "12488591318735436684"
     },
     "user_tz": 180
    },
    "id": "nSVLhZCV2M0U",
    "outputId": "b2449f16-78a5-48ea-a512-8716b78053bc"
   },
   "outputs": [
    {
     "data": {
      "text/plain": [
       "2.4025383520233294"
      ]
     },
     "execution_count": 97,
     "metadata": {},
     "output_type": "execute_result"
    }
   ],
   "source": [
    "np.sqrt(mean_squared_error(ytest, ypred2))"
   ]
  },
  {
   "cell_type": "code",
   "execution_count": 98,
   "metadata": {
    "colab": {
     "base_uri": "https://localhost:8080/",
     "height": 377
    },
    "executionInfo": {
     "elapsed": 3028,
     "status": "ok",
     "timestamp": 1637622544139,
     "user": {
      "displayName": "Gaston Barisani",
      "photoUrl": "https://lh3.googleusercontent.com/a-/AOh14GjPiAZd2ATBrZfu2xlPlnBc-Riz1L3YuKMUrQwpfw=s64",
      "userId": "12488591318735436684"
     },
     "user_tz": 180
    },
    "id": "tj50yHA-2Rxb",
    "outputId": "956b5a3e-bad8-421d-9b8c-5009be25abf9"
   },
   "outputs": [
    {
     "data": {
      "text/plain": [
       "Text(0, 0.5, 'Densidad')"
      ]
     },
     "execution_count": 98,
     "metadata": {},
     "output_type": "execute_result"
    },
    {
     "data": {
      "image/png": "[encoded data removed]",
      "text/plain": [
       "<Figure size 720x360 with 1 Axes>"
      ]
     },
     "metadata": {
      "needs_background": "light"
     },
     "output_type": "display_data"
    }
   ],
   "source": [
    "plt.figure(figsize=(10,5))\n",
    "sns.distplot(ytest)\n",
    "sns.distplot(ypred2)\n",
    "plt.title(\"Linear SVR\", size=20)\n",
    "plt.xlabel(\"Duración del recorrido\", size=15)\n",
    "plt.ylabel(\"Densidad\", size=15)"
   ]
  }
 ],
 "metadata": {
  "colab": {
   "collapsed_sections": [],
   "name": "TP.ipynb",
   "provenance": [],
   "toc_visible": true
  },
  "kernelspec": {
   "display_name": "Python 3",
   "language": "python",
   "name": "python3"
  },
  "language_info": {
   "codemirror_mode": {
    "name": "ipython",
    "version": 3
   },
   "file_extension": ".py",
   "mimetype": "text/x-python",
   "name": "python",
   "nbconvert_exporter": "python",
   "pygments_lexer": "ipython3",
   "version": "3.8.5"
  }
 },
 "nbformat": 4,
 "nbformat_minor": 1
}
